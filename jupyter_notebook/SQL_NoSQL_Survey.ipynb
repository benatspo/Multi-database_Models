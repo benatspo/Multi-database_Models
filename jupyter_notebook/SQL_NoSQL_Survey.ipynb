{
 "cells": [
  {
   "cell_type": "raw",
   "metadata": {},
   "source": [
    "The following command has to be executed only if 'ploty' is not already installed"
   ]
  },
  {
   "cell_type": "code",
   "execution_count": null,
   "metadata": {},
   "outputs": [],
   "source": [
    "conda install -c plotly plotly=4.14.3"
   ]
  },
  {
   "cell_type": "raw",
   "metadata": {},
   "source": [
    "The following scripts permit to query the survey database"
   ]
  },
  {
   "cell_type": "code",
   "execution_count": 1,
   "metadata": {
    "scrolled": true
   },
   "outputs": [],
   "source": [
    "import pandas as pd\n",
    "import sqlite3 as sql\n",
    "import plotly.express as px\n",
    "import plotly.graph_objects as go"
   ]
  },
  {
   "cell_type": "code",
   "execution_count": 2,
   "metadata": {},
   "outputs": [],
   "source": [
    "connection = sql.connect(\"./SQL_NoSQL_Survey.db\")"
   ]
  },
  {
   "cell_type": "raw",
   "metadata": {},
   "source": [
    "The following scripts permit to query the database for the results presented in the survey"
   ]
  },
  {
   "cell_type": "raw",
   "metadata": {},
   "source": [
    "- Table 1 of the paper: evolution of projects satisfying the selection criteria in the dataset"
   ]
  },
  {
   "cell_type": "code",
   "execution_count": 3,
   "metadata": {
    "scrolled": true
   },
   "outputs": [
    {
     "name": "stdout",
     "output_type": "stream",
     "text": [
      "   TOTAL_NUMBER_OF_REPOSITORIES\n",
      "0                       1395581\n",
      "   TOTAL_NUMBER_OF_FILTERED_REPOSITORIES\n",
      "0                                  42176\n",
      "   DATASET_VERSION  NUMBER_OF_FILTERED_REPOSITORIES\n",
      "0         20170721                            28249\n",
      "1         20171129                            30252\n",
      "2         20180313                            31133\n",
      "3         20181222                            33754\n",
      "4         20200112                            39776\n"
     ]
    }
   ],
   "source": [
    "#These queries return the total number of distinct repositories of the survey, for the 5 input datasets\n",
    "countNumberOfRepositories = '''SELECT COUNT(DISTINCT REPOSITORY_NAME) AS TOTAL_NUMBER_OF_REPOSITORIES FROM SQL_NOSQL_REPOSITORY_DEPENDENCIES;'''\n",
    "countNumberOfFilteredRepositories = '''SELECT COUNT(DISTINCT REPOSITORY_NAME) AS TOTAL_NUMBER_OF_FILTERED_REPOSITORIES FROM SQL_NOSQL_FILTERED_REPOSITORY_DEPENDENCIES;'''\n",
    "\n",
    "#This query returns the total number of filtered repositories of the survey per dataset version\n",
    "countNumberOfFilteredRepositoriesByDatasetVersion = '''SELECT DATASET_VERSION, COUNT(DISTINCT REPOSITORY_NAME) AS NUMBER_OF_FILTERED_REPOSITORIES FROM SQL_NOSQL_FILTERED_REPOSITORY_DEPENDENCIES GROUP BY DATASET_VERSION;'''\n",
    "\n",
    "dfCountNumberOfRepositories = pd.read_sql_query(countNumberOfRepositories, connection)\n",
    "dfCountNumberOfFilteredRepositories = pd.read_sql_query(countNumberOfFilteredRepositories, connection)\n",
    "dfCountNumberOfFilteredRepositoriesByDatasetVersion = pd.read_sql_query(countNumberOfFilteredRepositoriesByDatasetVersion, connection)\n",
    "\n",
    "print(dfCountNumberOfRepositories)\n",
    "print(dfCountNumberOfFilteredRepositories)\n",
    "print(dfCountNumberOfFilteredRepositoriesByDatasetVersion)"
   ]
  },
  {
   "cell_type": "raw",
   "metadata": {},
   "source": [
    "- Table 2 of the paper: evolution of database-dependent projects by data model"
   ]
  },
  {
   "cell_type": "code",
   "execution_count": 21,
   "metadata": {
    "scrolled": true
   },
   "outputs": [
    {
     "name": "stdout",
     "output_type": "stream",
     "text": [
      "    DATASET_VERSION     DBMS_TYPE  NUMBER_OF_FILTERED_REPOSITORIES\n",
      "0          20170721      ColumnDB                              485\n",
      "1          20171129      ColumnDB                              537\n",
      "2          20180313      ColumnDB                              539\n",
      "3          20181222      ColumnDB                              727\n",
      "4          20200112      ColumnDB                             1147\n",
      "5          20170721    DocumentDB                             6980\n",
      "6          20171129    DocumentDB                             7541\n",
      "7          20180313    DocumentDB                             7745\n",
      "8          20181222    DocumentDB                             8459\n",
      "9          20200112    DocumentDB                            10261\n",
      "10         20170721       GraphDB                              301\n",
      "11         20171129       GraphDB                              330\n",
      "12         20180313       GraphDB                              336\n",
      "13         20181222       GraphDB                              360\n",
      "14         20200112       GraphDB                              418\n",
      "15         20170721    KeyValueDB                             6334\n",
      "16         20171129    KeyValueDB                             6725\n",
      "17         20180313    KeyValueDB                             6967\n",
      "18         20181222    KeyValueDB                             7796\n",
      "19         20200112    KeyValueDB                             9436\n",
      "20         20170721  RelationalDB                            18701\n",
      "21         20171129  RelationalDB                            19989\n",
      "22         20180313  RelationalDB                            20524\n",
      "23         20181222  RelationalDB                            21939\n",
      "24         20200112  RelationalDB                            25524\n"
     ]
    }
   ],
   "source": [
    "#This query returns the total number of filtered repositories of the survey per dataset version and data model\n",
    "countNumberOfRepositories = '''SELECT DATASET_VERSION, DBMS_TYPE, COUNT(DISTINCT REPOSITORY_NAME) AS NUMBER_OF_FILTERED_REPOSITORIES FROM SQL_NOSQL_FILTERED_REPOSITORY_DEPENDENCIES GROUP BY DBMS_TYPE, DATASET_VERSION;'''\n",
    "\n",
    "dfCountNumberOfRepositories = pd.read_sql_query(countNumberOfRepositories, connection)\n",
    "\n",
    "print(dfCountNumberOfRepositories)"
   ]
  },
  {
   "cell_type": "raw",
   "metadata": {},
   "source": [
    "- Figure 3 of the paper: number of database-dependent projects by database management system (2020)"
   ]
  },
  {
   "cell_type": "code",
   "execution_count": 23,
   "metadata": {
    "scrolled": true
   },
   "outputs": [
    {
     "name": "stdout",
     "output_type": "stream",
     "text": [
      "         DBMS  NUMBER_OF_FILTERED_REPOSITORIES\n",
      "0  PostgreSQL                            12959\n",
      "1     MongoDB                            10154\n",
      "2       MySQL                             8962\n",
      "3      SQLite                             8729\n",
      "4       Redis                             7943\n",
      "5   Memcached                             1993\n",
      "6   Cassandra                             1018\n",
      "7       Neo4j                              418\n",
      "8       HBase                              161\n",
      "9   Couchbase                              129\n"
     ]
    }
   ],
   "source": [
    "#This query returns the total number of filtered repositories of the survey per database implementation in 2020\n",
    "countNumberOfRepositories = '''SELECT DBMS, COUNT(DISTINCT REPOSITORY_NAME) AS NUMBER_OF_FILTERED_REPOSITORIES FROM SQL_NOSQL_FILTERED_REPOSITORY_DEPENDENCIES WHERE DATASET_VERSION = '20200112' GROUP BY DBMS ORDER BY COUNT(DISTINCT REPOSITORY_NAME) DESC;'''\n",
    "\n",
    "dfCountNumberOfRepositories = pd.read_sql_query(countNumberOfRepositories, connection)\n",
    "\n",
    "print(dfCountNumberOfRepositories)"
   ]
  },
  {
   "cell_type": "raw",
   "metadata": {},
   "source": [
    "- Table 3 of the paper: number of database-dependent projects by dependency programming language and data model (2020)"
   ]
  },
  {
   "cell_type": "code",
   "execution_count": 24,
   "metadata": {
    "scrolled": true
   },
   "outputs": [
    {
     "name": "stdout",
     "output_type": "stream",
     "text": [
      "       DBMS_TYPE    DEPENDENCY_LANGUAGE  NUMBER_OF_FILTERED_REPOSITORIES\n",
      "0       ColumnDB  C#, C++, F#, VB, .NET                               27\n",
      "1       ColumnDB                     Go                               60\n",
      "2       ColumnDB                   Java                              394\n",
      "3       ColumnDB             JavaScript                               80\n",
      "4       ColumnDB                    PHP                                4\n",
      "5       ColumnDB                 Python                              551\n",
      "6       ColumnDB                   Ruby                               36\n",
      "7     DocumentDB  C#, C++, F#, VB, .NET                              286\n",
      "8     DocumentDB                Clojure                               40\n",
      "9     DocumentDB                     Go                              141\n",
      "10    DocumentDB                   Java                              803\n",
      "11    DocumentDB             JavaScript                             6297\n",
      "12    DocumentDB                    PHP                              203\n",
      "13    DocumentDB                 Python                             1511\n",
      "14    DocumentDB                   Ruby                             1042\n",
      "15    DocumentDB                   Rust                               11\n",
      "16       GraphDB  C#, C++, F#, VB, .NET                               13\n",
      "17       GraphDB                   Java                              185\n",
      "18       GraphDB             JavaScript                               94\n",
      "19       GraphDB                    PHP                               14\n",
      "20       GraphDB                 Python                               68\n",
      "21       GraphDB                   Ruby                               49\n",
      "22    KeyValueDB  C#, C++, F#, VB, .NET                              235\n",
      "23    KeyValueDB                   Java                              957\n",
      "24    KeyValueDB             JavaScript                             2963\n",
      "25    KeyValueDB                    PHP                                8\n",
      "26    KeyValueDB                   Perl                                2\n",
      "27    KeyValueDB                 Python                             2662\n",
      "28    KeyValueDB                   Ruby                             2687\n",
      "29  RelationalDB  C#, C++, F#, VB, .NET                              971\n",
      "30  RelationalDB                   Java                             3786\n",
      "31  RelationalDB             JavaScript                             4248\n",
      "32  RelationalDB                    PHP                                2\n",
      "33  RelationalDB                 Python                             5065\n",
      "34  RelationalDB                   Ruby                            11573\n"
     ]
    }
   ],
   "source": [
    "#This query returns the total number of filtered repositories of the survey per data model and dependency programming language in 2020\n",
    "countNumberOfRepositories = '''SELECT DBMS_TYPE, DEPENDENCY_LANGUAGE, COUNT(DISTINCT REPOSITORY_NAME) AS NUMBER_OF_FILTERED_REPOSITORIES FROM SQL_NOSQL_FILTERED_REPOSITORY_DEPENDENCIES WHERE DATASET_VERSION = '20200112' GROUP BY DBMS_TYPE, DEPENDENCY_LANGUAGE;'''\n",
    "\n",
    "dfCountNumberOfRepositories = pd.read_sql_query(countNumberOfRepositories, connection)\n",
    "\n",
    "print(dfCountNumberOfRepositories)"
   ]
  },
  {
   "cell_type": "raw",
   "metadata": {},
   "source": [
    "- RQ2 of the paper: information about the most used database drivers"
   ]
  },
  {
   "cell_type": "code",
   "execution_count": 26,
   "metadata": {
    "scrolled": true
   },
   "outputs": [
    {
     "name": "stdout",
     "output_type": "stream",
     "text": [
      "         DEPENDENCY_NAME DEPENDENCY_LANGUAGE  ODM  \\\n",
      "0                     pg                Ruby    0   \n",
      "1                sqlite3                Ruby    0   \n",
      "2               mongoose          JavaScript    1   \n",
      "3               psycopg2              Python    0   \n",
      "4                mongodb          JavaScript    0   \n",
      "..                   ...                 ...  ...   \n",
      "308             starbase              Python    0   \n",
      "309             tornadis              Python    0   \n",
      "310            toshihiko          JavaScript    1   \n",
      "311          ts-postgres          JavaScript    0   \n",
      "312  vinelab/neoeloquent                 PHP    1   \n",
      "\n",
      "     NUMBER_OF_FILTERED_REPOSITORIES  \n",
      "0                               6125  \n",
      "1                               5798  \n",
      "2                               4424  \n",
      "3                               3683  \n",
      "4                               3406  \n",
      "..                               ...  \n",
      "308                                1  \n",
      "309                                1  \n",
      "310                                1  \n",
      "311                                1  \n",
      "312                                1  \n",
      "\n",
      "[313 rows x 4 columns]\n"
     ]
    }
   ],
   "source": [
    "#This query returns the total number of filtered repositories of the survey per dependency in 2020 and dependency programming language in 2020\n",
    "countNumberOfRepositories = '''SELECT DEPENDENCY_NAME, DEPENDENCY_LANGUAGE, ODM AS 'ORM/ONM', COUNT(DISTINCT REPOSITORY_NAME) AS NUMBER_OF_FILTERED_REPOSITORIES FROM SQL_NOSQL_FILTERED_REPOSITORY_DEPENDENCIES WHERE DATASET_VERSION = '20200112' GROUP BY DEPENDENCY_NAME, DEPENDENCY_LANGUAGE ORDER BY COUNT(DISTINCT REPOSITORY_NAME) DESC;'''\n",
    "\n",
    "dfCountNumberOfRepositories = pd.read_sql_query(countNumberOfRepositories, connection)\n",
    "\n",
    "print(dfCountNumberOfRepositories)"
   ]
  },
  {
   "cell_type": "raw",
   "metadata": {},
   "source": [
    "- Table 4 (in percentage) + Figures 4 and 5 of the paper: evolution of the proportion of hybrid database-dependent projects by data model + distribution of hybrid database-dependent projects"
   ]
  },
  {
   "cell_type": "code",
   "execution_count": 27,
   "metadata": {
    "scrolled": true
   },
   "outputs": [
    {
     "name": "stdout",
     "output_type": "stream",
     "text": [
      "     DATASET_VERSION    DATA_MODELS  NUMBER_OF_FILTERED_REPOSITORIES\n",
      "0           20170721              R                            14981\n",
      "1           20170721              D                             5493\n",
      "2           20170721              K                             2772\n",
      "3           20170721          R + K                             2753\n",
      "4           20170721          D + K                              587\n",
      "..               ...            ...                              ...\n",
      "128         20200112          C + G                                5\n",
      "129         20200112      R + K + G                                5\n",
      "130         20200112      R + C + G                                2\n",
      "131         20200112  R + D + C + G                                2\n",
      "132         20200112      K + C + G                                1\n",
      "\n",
      "[133 rows x 3 columns]\n"
     ]
    }
   ],
   "source": [
    "#This query returns the total number of filtered repositories of the survey per combination of data model in 2020 and dependency programming language in 2020\n",
    "countNumberOfRepositories = '''SELECT DATASET_VERSION, DATA_MODELS, NUMBER_OF_FILTERED_REPOSITORIES FROM (\n",
    "    --Only relational DB\n",
    "    SELECT DATASET_VERSION, 'R' AS 'DATA_MODELS', COUNT(DISTINCT REPOSITORY_NAME) AS NUMBER_OF_FILTERED_REPOSITORIES FROM SQL_NOSQL_FILTERED_REPOSITORY_DEPENDENCIES WHERE REPOSITORY_NAME IN (\n",
    "        SELECT REPOSITORY_NAME FROM SQL_NOSQL_REPOSITORY_WITH_DBMS_TYPE WHERE HAS_RELATIONAL_DB_DEPENDENCY = true AND HAS_DOCUMENT_DB_DEPENDENCY = false AND HAS_KEY_VALUE_DB_DEPENDENCY = false AND HAS_COLUMN_DB_DEPENDENCY = false AND HAS_GRAPH_DB_DEPENDENCY = false\n",
    "    ) GROUP BY DATASET_VERSION\n",
    "    UNION\n",
    "    --Only document DB\n",
    "    SELECT DATASET_VERSION, 'D' AS 'DATA_MODELS', COUNT(DISTINCT REPOSITORY_NAME) AS NUMBER_OF_FILTERED_REPOSITORIES FROM SQL_NOSQL_FILTERED_REPOSITORY_DEPENDENCIES WHERE REPOSITORY_NAME IN (\n",
    "        SELECT REPOSITORY_NAME FROM SQL_NOSQL_REPOSITORY_WITH_DBMS_TYPE WHERE HAS_RELATIONAL_DB_DEPENDENCY = false AND HAS_DOCUMENT_DB_DEPENDENCY = true AND HAS_KEY_VALUE_DB_DEPENDENCY = false AND HAS_COLUMN_DB_DEPENDENCY = false AND HAS_GRAPH_DB_DEPENDENCY = false\n",
    "    ) GROUP BY DATASET_VERSION\n",
    "    UNION\n",
    "    --Only key-value DB\n",
    "    SELECT DATASET_VERSION, 'K' AS 'DATA_MODELS', COUNT(DISTINCT REPOSITORY_NAME) AS NUMBER_OF_FILTERED_REPOSITORIES FROM SQL_NOSQL_FILTERED_REPOSITORY_DEPENDENCIES WHERE REPOSITORY_NAME IN (\n",
    "        SELECT REPOSITORY_NAME FROM SQL_NOSQL_REPOSITORY_WITH_DBMS_TYPE WHERE HAS_RELATIONAL_DB_DEPENDENCY = false AND HAS_DOCUMENT_DB_DEPENDENCY = false AND HAS_KEY_VALUE_DB_DEPENDENCY = true AND HAS_COLUMN_DB_DEPENDENCY = false AND HAS_GRAPH_DB_DEPENDENCY = false\n",
    "    ) GROUP BY DATASET_VERSION\n",
    "    UNION\n",
    "    --Only column DB\n",
    "    SELECT DATASET_VERSION, 'C' AS 'DATA_MODELS', COUNT(DISTINCT REPOSITORY_NAME) AS NUMBER_OF_FILTERED_REPOSITORIES FROM SQL_NOSQL_FILTERED_REPOSITORY_DEPENDENCIES WHERE REPOSITORY_NAME IN (\n",
    "        SELECT REPOSITORY_NAME FROM SQL_NOSQL_REPOSITORY_WITH_DBMS_TYPE WHERE HAS_RELATIONAL_DB_DEPENDENCY = false AND HAS_DOCUMENT_DB_DEPENDENCY = false AND HAS_KEY_VALUE_DB_DEPENDENCY = false AND HAS_COLUMN_DB_DEPENDENCY = true AND HAS_GRAPH_DB_DEPENDENCY = false\n",
    "    ) GROUP BY DATASET_VERSION\n",
    "    UNION\n",
    "    --Only graph DB\n",
    "    SELECT DATASET_VERSION, 'G' AS 'DATA_MODELS', COUNT(DISTINCT REPOSITORY_NAME) AS NUMBER_OF_FILTERED_REPOSITORIES FROM SQL_NOSQL_FILTERED_REPOSITORY_DEPENDENCIES WHERE REPOSITORY_NAME IN (\n",
    "        SELECT REPOSITORY_NAME FROM SQL_NOSQL_REPOSITORY_WITH_DBMS_TYPE WHERE HAS_RELATIONAL_DB_DEPENDENCY = false AND HAS_DOCUMENT_DB_DEPENDENCY = false AND HAS_KEY_VALUE_DB_DEPENDENCY = false AND HAS_COLUMN_DB_DEPENDENCY = false AND HAS_GRAPH_DB_DEPENDENCY = true\n",
    "    ) GROUP BY DATASET_VERSION\n",
    "    UNION\n",
    "    --Number of projects having two database types\n",
    "    --Relational DB & Key-Value DB\n",
    "    SELECT DATASET_VERSION, 'R + K' AS 'DATA_MODELS', COUNT(DISTINCT REPOSITORY_NAME) AS NUMBER_OF_FILTERED_REPOSITORIES FROM SQL_NOSQL_FILTERED_REPOSITORY_DEPENDENCIES WHERE REPOSITORY_NAME IN (\n",
    "        SELECT REPOSITORY_NAME FROM SQL_NOSQL_REPOSITORY_WITH_DBMS_TYPE WHERE HAS_RELATIONAL_DB_DEPENDENCY = true AND HAS_DOCUMENT_DB_DEPENDENCY = false AND HAS_KEY_VALUE_DB_DEPENDENCY = true AND HAS_COLUMN_DB_DEPENDENCY = false AND HAS_GRAPH_DB_DEPENDENCY = false\n",
    "    ) GROUP BY DATASET_VERSION\n",
    "    UNION\n",
    "    --Relational DB & Document DB\n",
    "    SELECT DATASET_VERSION, 'R + D' AS 'DATA_MODELS', COUNT(DISTINCT REPOSITORY_NAME) AS NUMBER_OF_FILTERED_REPOSITORIES FROM SQL_NOSQL_FILTERED_REPOSITORY_DEPENDENCIES WHERE REPOSITORY_NAME IN (\n",
    "        SELECT REPOSITORY_NAME FROM SQL_NOSQL_REPOSITORY_WITH_DBMS_TYPE WHERE HAS_RELATIONAL_DB_DEPENDENCY = true AND HAS_DOCUMENT_DB_DEPENDENCY = true AND HAS_KEY_VALUE_DB_DEPENDENCY = false AND HAS_COLUMN_DB_DEPENDENCY = false AND HAS_GRAPH_DB_DEPENDENCY = false\n",
    "    ) GROUP BY DATASET_VERSION\n",
    "    UNION\n",
    "    --Document DB & Key-Value DB\n",
    "    SELECT DATASET_VERSION, 'D + K' AS 'DATA_MODELS', COUNT(DISTINCT REPOSITORY_NAME) AS NUMBER_OF_FILTERED_REPOSITORIES FROM SQL_NOSQL_FILTERED_REPOSITORY_DEPENDENCIES WHERE REPOSITORY_NAME IN (\n",
    "        SELECT REPOSITORY_NAME FROM SQL_NOSQL_REPOSITORY_WITH_DBMS_TYPE WHERE HAS_RELATIONAL_DB_DEPENDENCY = false AND HAS_DOCUMENT_DB_DEPENDENCY = true AND HAS_KEY_VALUE_DB_DEPENDENCY = true AND HAS_COLUMN_DB_DEPENDENCY = false AND HAS_GRAPH_DB_DEPENDENCY = false\n",
    "    ) GROUP BY DATASET_VERSION\n",
    "    UNION\n",
    "    --Relational DB & Column DB\n",
    "    SELECT DATASET_VERSION, 'R + C' AS 'DATA_MODELS', COUNT(DISTINCT REPOSITORY_NAME) AS NUMBER_OF_FILTERED_REPOSITORIES FROM SQL_NOSQL_FILTERED_REPOSITORY_DEPENDENCIES WHERE REPOSITORY_NAME IN (\n",
    "        SELECT REPOSITORY_NAME FROM SQL_NOSQL_REPOSITORY_WITH_DBMS_TYPE WHERE HAS_RELATIONAL_DB_DEPENDENCY = true AND HAS_DOCUMENT_DB_DEPENDENCY = false AND HAS_KEY_VALUE_DB_DEPENDENCY = false AND HAS_COLUMN_DB_DEPENDENCY = true AND HAS_GRAPH_DB_DEPENDENCY = false\n",
    "    ) GROUP BY DATASET_VERSION\n",
    "    UNION\n",
    "    --Key-Value DB & Column DB\n",
    "    SELECT DATASET_VERSION, 'K + C' AS 'DATA_MODELS', COUNT(DISTINCT REPOSITORY_NAME) AS NUMBER_OF_FILTERED_REPOSITORIES FROM SQL_NOSQL_FILTERED_REPOSITORY_DEPENDENCIES WHERE REPOSITORY_NAME IN (\n",
    "        SELECT REPOSITORY_NAME FROM SQL_NOSQL_REPOSITORY_WITH_DBMS_TYPE WHERE HAS_RELATIONAL_DB_DEPENDENCY = false AND HAS_DOCUMENT_DB_DEPENDENCY = false AND HAS_KEY_VALUE_DB_DEPENDENCY = true AND HAS_COLUMN_DB_DEPENDENCY = true AND HAS_GRAPH_DB_DEPENDENCY = false\n",
    "    ) GROUP BY DATASET_VERSION\n",
    "    UNION\n",
    "    --Document DB & Column DB\n",
    "    SELECT DATASET_VERSION, 'D + C' AS 'DATA_MODELS', COUNT(DISTINCT REPOSITORY_NAME) AS NUMBER_OF_FILTERED_REPOSITORIES FROM SQL_NOSQL_FILTERED_REPOSITORY_DEPENDENCIES WHERE REPOSITORY_NAME IN (\n",
    "        SELECT REPOSITORY_NAME FROM SQL_NOSQL_REPOSITORY_WITH_DBMS_TYPE WHERE HAS_RELATIONAL_DB_DEPENDENCY = false AND HAS_DOCUMENT_DB_DEPENDENCY = true AND HAS_KEY_VALUE_DB_DEPENDENCY = false AND HAS_COLUMN_DB_DEPENDENCY = true AND HAS_GRAPH_DB_DEPENDENCY = false\n",
    "    ) GROUP BY DATASET_VERSION\n",
    "    UNION\n",
    "    --Relational DB & Graph DB\n",
    "    SELECT DATASET_VERSION, 'R + G' AS 'DATA_MODELS', COUNT(DISTINCT REPOSITORY_NAME) AS NUMBER_OF_FILTERED_REPOSITORIES FROM SQL_NOSQL_FILTERED_REPOSITORY_DEPENDENCIES WHERE REPOSITORY_NAME IN (\n",
    "        SELECT REPOSITORY_NAME FROM SQL_NOSQL_REPOSITORY_WITH_DBMS_TYPE WHERE HAS_RELATIONAL_DB_DEPENDENCY = true AND HAS_DOCUMENT_DB_DEPENDENCY = false AND HAS_KEY_VALUE_DB_DEPENDENCY = false AND HAS_COLUMN_DB_DEPENDENCY = false AND HAS_GRAPH_DB_DEPENDENCY = true\n",
    "    ) GROUP BY DATASET_VERSION\n",
    "    UNION\n",
    "    --Document DB & Graph DB\n",
    "    SELECT DATASET_VERSION, 'D + G' AS 'DATA_MODELS', COUNT(DISTINCT REPOSITORY_NAME) AS NUMBER_OF_FILTERED_REPOSITORIES FROM SQL_NOSQL_FILTERED_REPOSITORY_DEPENDENCIES WHERE REPOSITORY_NAME IN (\n",
    "        SELECT REPOSITORY_NAME FROM SQL_NOSQL_REPOSITORY_WITH_DBMS_TYPE WHERE HAS_RELATIONAL_DB_DEPENDENCY = false AND HAS_DOCUMENT_DB_DEPENDENCY = true AND HAS_KEY_VALUE_DB_DEPENDENCY = false AND HAS_COLUMN_DB_DEPENDENCY = false AND HAS_GRAPH_DB_DEPENDENCY = true\n",
    "    ) GROUP BY DATASET_VERSION\n",
    "    UNION\n",
    "    --Key-Value & Graph DB\n",
    "    SELECT DATASET_VERSION, 'K + G' AS 'DATA_MODELS', COUNT(DISTINCT REPOSITORY_NAME) AS NUMBER_OF_FILTERED_REPOSITORIES FROM SQL_NOSQL_FILTERED_REPOSITORY_DEPENDENCIES WHERE REPOSITORY_NAME IN (\n",
    "        SELECT REPOSITORY_NAME FROM SQL_NOSQL_REPOSITORY_WITH_DBMS_TYPE WHERE HAS_RELATIONAL_DB_DEPENDENCY = false AND HAS_DOCUMENT_DB_DEPENDENCY = false AND HAS_KEY_VALUE_DB_DEPENDENCY = true AND HAS_COLUMN_DB_DEPENDENCY = false AND HAS_GRAPH_DB_DEPENDENCY = true\n",
    "    ) GROUP BY DATASET_VERSION\n",
    "    UNION\n",
    "    --Column DB & Graph DB\n",
    "    SELECT DATASET_VERSION, 'C + G' AS 'DATA_MODELS', COUNT(DISTINCT REPOSITORY_NAME) AS NUMBER_OF_FILTERED_REPOSITORIES FROM SQL_NOSQL_FILTERED_REPOSITORY_DEPENDENCIES WHERE REPOSITORY_NAME IN (\n",
    "        SELECT REPOSITORY_NAME FROM SQL_NOSQL_REPOSITORY_WITH_DBMS_TYPE WHERE HAS_RELATIONAL_DB_DEPENDENCY = false AND HAS_DOCUMENT_DB_DEPENDENCY = false AND HAS_KEY_VALUE_DB_DEPENDENCY = false AND HAS_COLUMN_DB_DEPENDENCY = true AND HAS_GRAPH_DB_DEPENDENCY = true\n",
    "    ) GROUP BY DATASET_VERSION\n",
    "    UNION\n",
    "    --Number of projects having three database types\n",
    "    --Relational DB & Document DB & Key-Value DB\n",
    "    SELECT DATASET_VERSION, 'R + D + K' AS 'DATA_MODELS', COUNT(DISTINCT REPOSITORY_NAME) AS NUMBER_OF_FILTERED_REPOSITORIES FROM SQL_NOSQL_FILTERED_REPOSITORY_DEPENDENCIES WHERE REPOSITORY_NAME IN (\n",
    "        SELECT REPOSITORY_NAME FROM SQL_NOSQL_REPOSITORY_WITH_DBMS_TYPE WHERE HAS_RELATIONAL_DB_DEPENDENCY = true AND HAS_DOCUMENT_DB_DEPENDENCY = true AND HAS_KEY_VALUE_DB_DEPENDENCY = true AND HAS_COLUMN_DB_DEPENDENCY = false AND HAS_GRAPH_DB_DEPENDENCY = false\n",
    "    ) GROUP BY DATASET_VERSION\n",
    "    UNION\n",
    "    --Relational DB & Key-Value DB & Column DB\n",
    "    SELECT DATASET_VERSION, 'R + K + C' AS 'DATA_MODELS', COUNT(DISTINCT REPOSITORY_NAME) AS NUMBER_OF_FILTERED_REPOSITORIES FROM SQL_NOSQL_FILTERED_REPOSITORY_DEPENDENCIES WHERE REPOSITORY_NAME IN (\n",
    "        SELECT REPOSITORY_NAME FROM SQL_NOSQL_REPOSITORY_WITH_DBMS_TYPE WHERE HAS_RELATIONAL_DB_DEPENDENCY = true AND HAS_DOCUMENT_DB_DEPENDENCY = false AND HAS_KEY_VALUE_DB_DEPENDENCY = true AND HAS_COLUMN_DB_DEPENDENCY = true AND HAS_GRAPH_DB_DEPENDENCY = false\n",
    "    ) GROUP BY DATASET_VERSION\n",
    "    UNION\n",
    "    --Relational DB & Document DB & Column DB\n",
    "    SELECT DATASET_VERSION, 'R + D + C' AS 'DATA_MODELS', COUNT(DISTINCT REPOSITORY_NAME) AS NUMBER_OF_FILTERED_REPOSITORIES FROM SQL_NOSQL_FILTERED_REPOSITORY_DEPENDENCIES WHERE REPOSITORY_NAME IN (\n",
    "        SELECT REPOSITORY_NAME FROM SQL_NOSQL_REPOSITORY_WITH_DBMS_TYPE WHERE HAS_RELATIONAL_DB_DEPENDENCY = true AND HAS_DOCUMENT_DB_DEPENDENCY = true AND HAS_KEY_VALUE_DB_DEPENDENCY = false AND HAS_COLUMN_DB_DEPENDENCY = true AND HAS_GRAPH_DB_DEPENDENCY = false\n",
    "    ) GROUP BY DATASET_VERSION\n",
    "    UNION\n",
    "    --Document DB & Key-Value DB & Column DB\n",
    "    SELECT DATASET_VERSION, 'D + K + C' AS 'DATA_MODELS', COUNT(DISTINCT REPOSITORY_NAME) AS NUMBER_OF_FILTERED_REPOSITORIES FROM SQL_NOSQL_FILTERED_REPOSITORY_DEPENDENCIES WHERE REPOSITORY_NAME IN (\n",
    "        SELECT REPOSITORY_NAME FROM SQL_NOSQL_REPOSITORY_WITH_DBMS_TYPE WHERE HAS_RELATIONAL_DB_DEPENDENCY = false AND HAS_DOCUMENT_DB_DEPENDENCY = true AND HAS_KEY_VALUE_DB_DEPENDENCY = true AND HAS_COLUMN_DB_DEPENDENCY = true AND HAS_GRAPH_DB_DEPENDENCY = false\n",
    "    ) GROUP BY DATASET_VERSION\n",
    "    UNION\n",
    "    --Relational DB & Document DB & Graph DB\n",
    "    SELECT DATASET_VERSION, 'R + D + G' AS 'DATA_MODELS', COUNT(DISTINCT REPOSITORY_NAME) AS NUMBER_OF_FILTERED_REPOSITORIES FROM SQL_NOSQL_FILTERED_REPOSITORY_DEPENDENCIES WHERE REPOSITORY_NAME IN (\n",
    "        SELECT REPOSITORY_NAME FROM SQL_NOSQL_REPOSITORY_WITH_DBMS_TYPE WHERE HAS_RELATIONAL_DB_DEPENDENCY = true AND HAS_DOCUMENT_DB_DEPENDENCY = true AND HAS_KEY_VALUE_DB_DEPENDENCY = false AND HAS_COLUMN_DB_DEPENDENCY = false AND HAS_GRAPH_DB_DEPENDENCY = true\n",
    "    ) GROUP BY DATASET_VERSION\n",
    "    UNION\n",
    "    --Document DB & Key-Value DB & Graph DB\n",
    "    SELECT DATASET_VERSION, 'D + K + G' AS 'DATA_MODELS', COUNT(DISTINCT REPOSITORY_NAME) AS NUMBER_OF_FILTERED_REPOSITORIES FROM SQL_NOSQL_FILTERED_REPOSITORY_DEPENDENCIES WHERE REPOSITORY_NAME IN (\n",
    "        SELECT REPOSITORY_NAME FROM SQL_NOSQL_REPOSITORY_WITH_DBMS_TYPE WHERE HAS_RELATIONAL_DB_DEPENDENCY = false AND HAS_DOCUMENT_DB_DEPENDENCY = true AND HAS_KEY_VALUE_DB_DEPENDENCY = true AND HAS_COLUMN_DB_DEPENDENCY = false AND HAS_GRAPH_DB_DEPENDENCY = true\n",
    "    ) GROUP BY DATASET_VERSION\n",
    "    UNION\n",
    "    --Relational DB & Key-Value DB & Graph DB\n",
    "    SELECT DATASET_VERSION, 'R + K + G' AS 'DATA_MODELS', COUNT(DISTINCT REPOSITORY_NAME) AS NUMBER_OF_FILTERED_REPOSITORIES FROM SQL_NOSQL_FILTERED_REPOSITORY_DEPENDENCIES WHERE REPOSITORY_NAME IN (\n",
    "        SELECT REPOSITORY_NAME FROM SQL_NOSQL_REPOSITORY_WITH_DBMS_TYPE WHERE HAS_RELATIONAL_DB_DEPENDENCY = true AND HAS_DOCUMENT_DB_DEPENDENCY = false AND HAS_KEY_VALUE_DB_DEPENDENCY = true AND HAS_COLUMN_DB_DEPENDENCY = false AND HAS_GRAPH_DB_DEPENDENCY = true\n",
    "    ) GROUP BY DATASET_VERSION\n",
    "    UNION\n",
    "    --Relational DB & Column DB & Graph DB\n",
    "    SELECT DATASET_VERSION, 'R + C + G' AS 'DATA_MODELS', COUNT(DISTINCT REPOSITORY_NAME) AS NUMBER_OF_FILTERED_REPOSITORIES FROM SQL_NOSQL_FILTERED_REPOSITORY_DEPENDENCIES WHERE REPOSITORY_NAME IN (\n",
    "        SELECT REPOSITORY_NAME FROM SQL_NOSQL_REPOSITORY_WITH_DBMS_TYPE WHERE HAS_RELATIONAL_DB_DEPENDENCY = true AND HAS_DOCUMENT_DB_DEPENDENCY = false AND HAS_KEY_VALUE_DB_DEPENDENCY = false AND HAS_COLUMN_DB_DEPENDENCY = true AND HAS_GRAPH_DB_DEPENDENCY = true\n",
    "    ) GROUP BY DATASET_VERSION\n",
    "    UNION\n",
    "    --Document DB & Column DB & Graph DB\n",
    "    SELECT DATASET_VERSION, 'D + C + G' AS 'DATA_MODELS', COUNT(DISTINCT REPOSITORY_NAME) AS NUMBER_OF_FILTERED_REPOSITORIES FROM SQL_NOSQL_FILTERED_REPOSITORY_DEPENDENCIES WHERE REPOSITORY_NAME IN (\n",
    "        SELECT REPOSITORY_NAME FROM SQL_NOSQL_REPOSITORY_WITH_DBMS_TYPE WHERE HAS_RELATIONAL_DB_DEPENDENCY = false AND HAS_DOCUMENT_DB_DEPENDENCY = true AND HAS_KEY_VALUE_DB_DEPENDENCY = false AND HAS_COLUMN_DB_DEPENDENCY = true AND HAS_GRAPH_DB_DEPENDENCY = true\n",
    "    ) GROUP BY DATASET_VERSION\n",
    "    UNION\n",
    "    --Key-Value DB & Column DB & Graph DB\n",
    "    SELECT DATASET_VERSION, 'K + C + G' AS 'DATA_MODELS', COUNT(DISTINCT REPOSITORY_NAME) AS NUMBER_OF_FILTERED_REPOSITORIES FROM SQL_NOSQL_FILTERED_REPOSITORY_DEPENDENCIES WHERE REPOSITORY_NAME IN (\n",
    "        SELECT REPOSITORY_NAME FROM SQL_NOSQL_REPOSITORY_WITH_DBMS_TYPE WHERE HAS_RELATIONAL_DB_DEPENDENCY = false AND HAS_DOCUMENT_DB_DEPENDENCY = false AND HAS_KEY_VALUE_DB_DEPENDENCY = true AND HAS_COLUMN_DB_DEPENDENCY = true AND HAS_GRAPH_DB_DEPENDENCY = true\n",
    "    ) GROUP BY DATASET_VERSION\n",
    "    UNION\n",
    "    --Number of projects having four database types\n",
    "    --Relational DB & Document DB & Key-Value DB & Column DB\n",
    "    SELECT DATASET_VERSION, 'R + D + K + C' AS 'DATA_MODELS', COUNT(DISTINCT REPOSITORY_NAME) AS NUMBER_OF_FILTERED_REPOSITORIES FROM SQL_NOSQL_FILTERED_REPOSITORY_DEPENDENCIES WHERE REPOSITORY_NAME IN (\n",
    "        SELECT REPOSITORY_NAME FROM SQL_NOSQL_REPOSITORY_WITH_DBMS_TYPE WHERE HAS_RELATIONAL_DB_DEPENDENCY = true AND HAS_DOCUMENT_DB_DEPENDENCY = true AND HAS_KEY_VALUE_DB_DEPENDENCY = true AND HAS_COLUMN_DB_DEPENDENCY = true AND HAS_GRAPH_DB_DEPENDENCY = false\n",
    "    ) GROUP BY DATASET_VERSION\n",
    "    UNION\n",
    "    --Relational DB & Document DB & Key-Value DB & Graph DB\n",
    "    SELECT DATASET_VERSION, 'R + D + K + G' AS 'DATA_MODELS', COUNT(DISTINCT REPOSITORY_NAME) AS NUMBER_OF_FILTERED_REPOSITORIES FROM SQL_NOSQL_FILTERED_REPOSITORY_DEPENDENCIES WHERE REPOSITORY_NAME IN (\n",
    "        SELECT REPOSITORY_NAME FROM SQL_NOSQL_REPOSITORY_WITH_DBMS_TYPE WHERE HAS_RELATIONAL_DB_DEPENDENCY = true AND HAS_DOCUMENT_DB_DEPENDENCY = true AND HAS_KEY_VALUE_DB_DEPENDENCY = true AND HAS_COLUMN_DB_DEPENDENCY = false AND HAS_GRAPH_DB_DEPENDENCY = true\n",
    "    ) GROUP BY DATASET_VERSION\n",
    "    UNION\n",
    "    --Document DB & Key-Value DB & Column DB & Graph DB\n",
    "    SELECT DATASET_VERSION, 'D + K + C + G' AS 'DATA_MODELS', COUNT(DISTINCT REPOSITORY_NAME) AS NUMBER_OF_FILTERED_REPOSITORIES FROM SQL_NOSQL_FILTERED_REPOSITORY_DEPENDENCIES WHERE REPOSITORY_NAME IN (\n",
    "        SELECT REPOSITORY_NAME FROM SQL_NOSQL_REPOSITORY_WITH_DBMS_TYPE WHERE HAS_RELATIONAL_DB_DEPENDENCY = false AND HAS_DOCUMENT_DB_DEPENDENCY = true AND HAS_KEY_VALUE_DB_DEPENDENCY = true AND HAS_COLUMN_DB_DEPENDENCY = true AND HAS_GRAPH_DB_DEPENDENCY = true\n",
    "    ) GROUP BY DATASET_VERSION\n",
    "    UNION\n",
    "    --Relational DB & Document DB & Column & Graph DB\n",
    "    SELECT DATASET_VERSION, 'R + D + C + G' AS 'DATA_MODELS', COUNT(DISTINCT REPOSITORY_NAME) AS NUMBER_OF_FILTERED_REPOSITORIES FROM SQL_NOSQL_FILTERED_REPOSITORY_DEPENDENCIES WHERE REPOSITORY_NAME IN (\n",
    "        SELECT REPOSITORY_NAME FROM SQL_NOSQL_REPOSITORY_WITH_DBMS_TYPE WHERE HAS_RELATIONAL_DB_DEPENDENCY = true AND HAS_DOCUMENT_DB_DEPENDENCY = true AND HAS_KEY_VALUE_DB_DEPENDENCY = false AND HAS_COLUMN_DB_DEPENDENCY = true AND HAS_GRAPH_DB_DEPENDENCY = true\n",
    "    ) GROUP BY DATASET_VERSION\n",
    "    UNION\n",
    "    --Relational DB & Key-Value DB & Column & Graph DB\n",
    "    SELECT DATASET_VERSION, 'R + K + C + G' AS 'DATA_MODELS', COUNT(DISTINCT REPOSITORY_NAME) AS NUMBER_OF_FILTERED_REPOSITORIES FROM SQL_NOSQL_FILTERED_REPOSITORY_DEPENDENCIES WHERE REPOSITORY_NAME IN (\n",
    "        SELECT REPOSITORY_NAME FROM SQL_NOSQL_REPOSITORY_WITH_DBMS_TYPE WHERE HAS_RELATIONAL_DB_DEPENDENCY = true AND HAS_DOCUMENT_DB_DEPENDENCY = false AND HAS_KEY_VALUE_DB_DEPENDENCY = true AND HAS_COLUMN_DB_DEPENDENCY = true AND HAS_GRAPH_DB_DEPENDENCY = true\n",
    "    ) GROUP BY DATASET_VERSION\n",
    "    UNION\n",
    "    --Number of projects having five database types\n",
    "    --Relational DB & Document DB & Key-Value DB & Column DB & Graph DB\n",
    "    SELECT DATASET_VERSION, 'R + D + K + C + G' AS 'DATA_MODELS', COUNT(DISTINCT REPOSITORY_NAME) AS NUMBER_OF_FILTERED_REPOSITORIES FROM SQL_NOSQL_FILTERED_REPOSITORY_DEPENDENCIES WHERE REPOSITORY_NAME IN (\n",
    "        SELECT REPOSITORY_NAME FROM SQL_NOSQL_REPOSITORY_WITH_DBMS_TYPE WHERE HAS_RELATIONAL_DB_DEPENDENCY = true AND HAS_DOCUMENT_DB_DEPENDENCY = true AND HAS_KEY_VALUE_DB_DEPENDENCY = true AND HAS_COLUMN_DB_DEPENDENCY = true AND HAS_GRAPH_DB_DEPENDENCY = true\n",
    "    )\n",
    ")\n",
    "ORDER BY DATASET_VERSION, NUMBER_OF_FILTERED_REPOSITORIES DESC;'''\n",
    "\n",
    "dfCountNumberOfRepositories = pd.read_sql_query(countNumberOfRepositories, connection)\n",
    "\n",
    "print(dfCountNumberOfRepositories)"
   ]
  },
  {
   "cell_type": "raw",
   "metadata": {},
   "source": [
    "- Figure 6 of the paper: distribution of the projects for each combination of database family evolution ('R' for relational, 'D' for document, 'K' for key-value, 'C' for column and 'G' for graph database families)"
   ]
  },
  {
   "cell_type": "code",
   "execution_count": 18,
   "metadata": {
    "scrolled": false
   },
   "outputs": [
    {
     "name": "stdout",
     "output_type": "stream",
     "text": [
      "   TOTAL_NUMBER_OF_FILTERED_EVOLVING_REPOSITORIES\n",
      "0                                             473\n"
     ]
    },
    {
     "data": {
      "application/vnd.plotly.v1+json": {
       "config": {
        "plotlyServerURL": "https://plot.ly"
       },
       "data": [
        {
         "arrangement": "freeform",
         "dimensions": [
          {
           "label": "First version",
           "values": [
            "R",
            "R",
            "R",
            "R",
            "R",
            "R",
            "R",
            "R",
            "R",
            "R",
            "R",
            "R",
            "R",
            "R",
            "R",
            "R",
            "R",
            "R",
            "R",
            "R",
            "R",
            "R",
            "R",
            "R",
            "R",
            "R",
            "R",
            "R",
            "R",
            "R",
            "R",
            "R",
            "R",
            "R",
            "R",
            "R",
            "R",
            "R",
            "R",
            "R",
            "R",
            "R",
            "R",
            "R",
            "R",
            "R",
            "R",
            "R",
            "R",
            "R",
            "R",
            "R",
            "R",
            "R",
            "R",
            "R",
            "R",
            "R",
            "R",
            "R",
            "R",
            "R",
            "R",
            "R",
            "R",
            "R",
            "R",
            "R",
            "R",
            "R",
            "R",
            "R",
            "R",
            "R",
            "R",
            "R",
            "R",
            "R",
            "R",
            "R",
            "R",
            "R",
            "R",
            "R",
            "R",
            "R",
            "R",
            "R",
            "R",
            "R",
            "R",
            "R",
            "R",
            "R",
            "R",
            "R",
            "R",
            "R",
            "R",
            "R",
            "R",
            "R",
            "R",
            "R",
            "R",
            "R",
            "R",
            "R",
            "R",
            "R",
            "R",
            "R",
            "R",
            "R",
            "R",
            "R",
            "R",
            "R",
            "R",
            "R",
            "R",
            "R",
            "R",
            "R",
            "R",
            "R",
            "R",
            "R",
            "R",
            "R",
            "R",
            "R",
            "R",
            "R",
            "R",
            "R",
            "R",
            "R",
            "R",
            "R",
            "R",
            "R",
            "D",
            "R + K",
            "D",
            "R + K",
            "R + K",
            "R + K",
            "R + K",
            "R + K",
            "R + K",
            "R + K",
            "R + K",
            "R + K",
            "D",
            "D",
            "R + K",
            "R + K",
            "D",
            "R + K",
            "D",
            "D",
            "R + K",
            "D",
            "R + K",
            "D",
            "R + K",
            "D",
            "D",
            "R + K",
            "D",
            "R + K",
            "R + K",
            "D",
            "D",
            "R + K",
            "R + K",
            "R + K",
            "R + K",
            "D",
            "D",
            "D",
            "D",
            "D",
            "D",
            "R + K",
            "D",
            "R + K",
            "D",
            "D",
            "D",
            "D",
            "D",
            "D",
            "R + K",
            "R + K",
            "D",
            "D",
            "R + K",
            "R + K",
            "R + K",
            "R + K",
            "D",
            "D",
            "R + K",
            "R + K",
            "R + K",
            "D",
            "D",
            "D",
            "D",
            "R + K",
            "D",
            "D",
            "D",
            "D",
            "D",
            "D",
            "D",
            "D",
            "D",
            "D",
            "D",
            "D",
            "D",
            "D",
            "D",
            "D",
            "D",
            "D",
            "D",
            "D",
            "D",
            "D",
            "D",
            "D",
            "D",
            "D",
            "D",
            "D",
            "D",
            "D",
            "D",
            "D",
            "D",
            "D",
            "K",
            "K",
            "K",
            "K",
            "K",
            "K",
            "K",
            "K",
            "K",
            "K",
            "K",
            "K",
            "K",
            "K",
            "K",
            "K",
            "K",
            "K",
            "K",
            "K",
            "K",
            "K",
            "K",
            "K",
            "K",
            "R + K",
            "R + K",
            "R",
            "R + K",
            "R",
            "R + K",
            "R + K",
            "R + K",
            "R + K",
            "R",
            "R",
            "R + K",
            "R",
            "R",
            "R",
            "R",
            "R + K",
            "R + K",
            "R",
            "R",
            "R",
            "R + K",
            "R",
            "R + K",
            "R",
            "R + K",
            "R + K",
            "R + K",
            "R",
            "R",
            "R + K",
            "R + K",
            "R",
            "R + K",
            "R",
            "R",
            "K",
            "K",
            "K",
            "K",
            "K",
            "K",
            "K",
            "K",
            "K",
            "K",
            "K",
            "K",
            "D + K",
            "D + K",
            "D + K",
            "D + K",
            "D + K",
            "D + K",
            "D + K",
            "D + K",
            "D + K",
            "D + K",
            "D + K",
            "D + K",
            "D + K",
            "D",
            "D + K",
            "D",
            "D",
            "D",
            "D + K",
            "D",
            "D",
            "D + K",
            "D",
            "D",
            "D + K",
            "D + K",
            "D",
            "D",
            "D + K",
            "R",
            "R",
            "R",
            "R",
            "R",
            "R",
            "R",
            "R",
            "R",
            "R + D",
            "D + K",
            "R + D",
            "R + D",
            "D + K",
            "R + D",
            "R + D",
            "D + K",
            "D + K",
            "D + K",
            "D + K",
            "R + D",
            "D + K",
            "R + D",
            "R",
            "R + D",
            "R + D",
            "R",
            "R + D",
            "R + D",
            "R + D",
            "R + D",
            "R",
            "R",
            "R",
            "R",
            "R",
            "R",
            "R + K",
            "K",
            "R",
            "R",
            "R",
            "R + K",
            "R",
            "K",
            "K",
            "K",
            "R + K",
            "R + K",
            "K",
            "R + D + K",
            "R + D + K",
            "K",
            "R + D + K",
            "R + D + K",
            "K",
            "R + D + K",
            "R + D + K",
            "R",
            "R",
            "R + D + K",
            "R",
            "K",
            "R",
            "R + D",
            "D",
            "D",
            "R + D",
            "R + D + K",
            "R + D + K",
            "D",
            "R + D",
            "C",
            "R + D",
            "D + C",
            "D",
            "R + C",
            "D",
            "D",
            "R + G",
            "R + K",
            "K + C",
            "K + C",
            "C",
            "R + K",
            "R + D",
            "R + C",
            "D",
            "D + C",
            "R + G",
            "K + C",
            "R + D + K + C",
            "R + D + C",
            "K",
            "D + K + G",
            "R + D + K",
            "D + C",
            "R + D + K + C",
            "D + K + C",
            "R + C",
            "D",
            "G",
            "R + K",
            "G",
            "D + K",
            "R + K",
            "D + K + C",
            "R + G",
            "R + K + C",
            "R + K + C",
            "K + C",
            "R + D",
            "R + K",
            "D",
            "R",
            "R",
            "R + D + K + C",
            "C",
            "D + K + C",
            "R + D + K",
            "D",
            "C",
            "R + C",
            "R",
            "R + K"
           ]
          },
          {
           "label": "Latest version",
           "values": [
            "R + K",
            "R + K",
            "R + K",
            "R + K",
            "R + K",
            "R + K",
            "R + K",
            "R + K",
            "R + K",
            "R + K",
            "R + K",
            "R + K",
            "R + K",
            "R + K",
            "R + K",
            "R + K",
            "R + K",
            "R + K",
            "R + K",
            "R + K",
            "R + K",
            "R + K",
            "R + K",
            "R + K",
            "R + K",
            "R + K",
            "R + K",
            "R + K",
            "R + K",
            "R + K",
            "R + K",
            "R + K",
            "R + K",
            "R + K",
            "R + K",
            "R + K",
            "R + K",
            "R + K",
            "R + K",
            "R + K",
            "R + K",
            "R + K",
            "R + K",
            "R + K",
            "R + K",
            "R + K",
            "R + K",
            "R + K",
            "R + K",
            "R + K",
            "R + K",
            "R + K",
            "R + K",
            "R + K",
            "R + K",
            "R + K",
            "R + K",
            "R + K",
            "R + K",
            "R + K",
            "R + K",
            "R + K",
            "R + K",
            "R + K",
            "R + K",
            "R + K",
            "R + K",
            "R + K",
            "R + K",
            "R + K",
            "R + K",
            "R + K",
            "R + K",
            "R + K",
            "R + K",
            "R + K",
            "R + K",
            "R + K",
            "R + K",
            "R + K",
            "R + K",
            "R + K",
            "R + K",
            "R + K",
            "R + K",
            "R + K",
            "R + K",
            "R + K",
            "R + K",
            "R + K",
            "R + K",
            "R + K",
            "R + K",
            "R + K",
            "R + K",
            "R + K",
            "R + K",
            "R + K",
            "R + K",
            "R + K",
            "R + K",
            "R + K",
            "R + K",
            "R + K",
            "R + K",
            "R + K",
            "R + K",
            "R + K",
            "R + K",
            "R + K",
            "R + K",
            "R + K",
            "R + K",
            "R + K",
            "R + K",
            "R + K",
            "R + K",
            "R + K",
            "R + K",
            "R + K",
            "R + K",
            "R + K",
            "R + K",
            "R + K",
            "R + K",
            "R + K",
            "R + K",
            "R + K",
            "R + K",
            "R + K",
            "R + K",
            "R + K",
            "R + K",
            "R + K",
            "R + K",
            "R + K",
            "R + K",
            "R + K",
            "R + K",
            "R + K",
            "R + K",
            "R + K",
            "D + K",
            "R",
            "D + K",
            "R",
            "R",
            "R",
            "R",
            "R",
            "R",
            "R",
            "R",
            "R",
            "D + K",
            "D + K",
            "R",
            "R",
            "D + K",
            "R",
            "D + K",
            "D + K",
            "R",
            "D + K",
            "R",
            "D + K",
            "R",
            "D + K",
            "D + K",
            "R",
            "D + K",
            "R",
            "R",
            "D + K",
            "D + K",
            "R",
            "R",
            "R",
            "R",
            "D + K",
            "D + K",
            "D + K",
            "D + K",
            "D + K",
            "D + K",
            "R",
            "D + K",
            "R",
            "D + K",
            "D + K",
            "D + K",
            "D + K",
            "D + K",
            "D + K",
            "R",
            "R",
            "D + K",
            "D + K",
            "R",
            "R",
            "R",
            "R",
            "D + K",
            "D + K",
            "R",
            "R",
            "R",
            "D + K",
            "D + K",
            "D + K",
            "D + K",
            "R",
            "D + K",
            "R + D",
            "R + D",
            "R + D",
            "R + D",
            "R + D",
            "R + D",
            "R + D",
            "R + D",
            "R + D",
            "R + D",
            "R + D",
            "R + D",
            "R + D",
            "R + D",
            "R + D",
            "R + D",
            "R + D",
            "R + D",
            "R + D",
            "R + D",
            "R + D",
            "R + D",
            "R + D",
            "R + D",
            "R + D",
            "R + D",
            "R + D",
            "R + D",
            "R + D",
            "R + D",
            "R + D",
            "R + D",
            "R + D",
            "R + K",
            "R + K",
            "R + K",
            "R + K",
            "R + K",
            "R + K",
            "R + K",
            "R + K",
            "R + K",
            "R + K",
            "R + K",
            "R + K",
            "R + K",
            "R + K",
            "R + K",
            "R + K",
            "R + K",
            "R + K",
            "R + K",
            "R + K",
            "R + K",
            "R + K",
            "R + K",
            "R + K",
            "R + K",
            "K",
            "K",
            "R + D",
            "K",
            "R + D",
            "K",
            "K",
            "K",
            "K",
            "R + D",
            "R + D",
            "K",
            "R + D",
            "R + D",
            "R + D",
            "R + D",
            "K",
            "K",
            "R + D",
            "R + D",
            "R + D",
            "K",
            "R + D",
            "K",
            "R + D",
            "K",
            "K",
            "K",
            "R + D",
            "R + D",
            "K",
            "K",
            "R + D",
            "K",
            "R + D",
            "R + D",
            "D + K",
            "D + K",
            "D + K",
            "D + K",
            "D + K",
            "D + K",
            "D + K",
            "D + K",
            "D + K",
            "D + K",
            "D + K",
            "D + K",
            "D",
            "D",
            "D",
            "D",
            "D",
            "D",
            "D",
            "D",
            "D",
            "D",
            "D",
            "R + D + K",
            "R + D + K",
            "R",
            "R + D + K",
            "R",
            "R",
            "R",
            "R + D + K",
            "R",
            "R",
            "R + D + K",
            "R",
            "R",
            "R + D + K",
            "R + D + K",
            "R",
            "R",
            "R + D + K",
            "R + D + K",
            "R + D + K",
            "R + D + K",
            "R + D + K",
            "R + D + K",
            "R + D + K",
            "R + D + K",
            "R + D + K",
            "R + D + K",
            "R",
            "K",
            "R",
            "R",
            "K",
            "R",
            "R",
            "K",
            "K",
            "K",
            "K",
            "R",
            "K",
            "R",
            "K",
            "R + D + K",
            "R + D + K",
            "K",
            "R + D + K",
            "R + D + K",
            "R + D + K",
            "R + D + K",
            "K",
            "K",
            "K",
            "K",
            "K",
            "R + C",
            "R + D + K",
            "R",
            "R + C",
            "R + C",
            "R + C",
            "R + D + K",
            "R + C",
            "R",
            "R",
            "R",
            "R + D + K",
            "R + D + K",
            "K + C",
            "R + K",
            "R",
            "K + C",
            "R + K",
            "R + K",
            "K + C",
            "R",
            "R",
            "D",
            "D",
            "R + K",
            "D",
            "K + C",
            "D",
            "D",
            "K",
            "K",
            "D",
            "R + D + K + C",
            "R + D + K + C",
            "K",
            "D",
            "R + C",
            "D + K",
            "D",
            "D + C",
            "R + K + C",
            "R + D + K",
            "R + D + K",
            "R",
            "D + K",
            "C",
            "R + K + C",
            "R + C",
            "D + K",
            "D + K",
            "R + K + C",
            "D + C",
            "D",
            "R",
            "C",
            "R + D + K",
            "R + D + K + C",
            "D + K + C + G",
            "D + K",
            "K",
            "D + K + C",
            "R + D + K + C + G",
            "D + K + C + G",
            "C",
            "R + D + G",
            "C + G",
            "R + D + K + G",
            "K + G",
            "R + D",
            "R + D + K + C + G",
            "K",
            "G",
            "R + D + K + C",
            "K",
            "K",
            "R + D + C",
            "R + D",
            "R + D + K + G",
            "D + K + G",
            "D + K",
            "R + D",
            "D + C",
            "C",
            "R + D + K + C + G",
            "D + K + C",
            "D + K + C",
            "R + D + K + C",
            "R + G",
            "R + D + K + C"
           ]
          }
         ],
         "hoverinfo": "count",
         "hoveron": "category",
         "labelfont": {
          "family": "Times",
          "size": 20
         },
         "line": {
          "color": [
           145,
           145,
           145,
           145,
           145,
           145,
           145,
           145,
           145,
           145,
           145,
           145,
           145,
           145,
           145,
           145,
           145,
           145,
           145,
           145,
           145,
           145,
           145,
           145,
           145,
           145,
           145,
           145,
           145,
           145,
           145,
           145,
           145,
           145,
           145,
           145,
           145,
           145,
           145,
           145,
           145,
           145,
           145,
           145,
           145,
           145,
           145,
           145,
           145,
           145,
           145,
           145,
           145,
           145,
           145,
           145,
           145,
           145,
           145,
           145,
           145,
           145,
           145,
           145,
           145,
           145,
           145,
           145,
           145,
           145,
           145,
           145,
           145,
           145,
           145,
           145,
           145,
           145,
           145,
           145,
           145,
           145,
           145,
           145,
           145,
           145,
           145,
           145,
           145,
           145,
           145,
           145,
           145,
           145,
           145,
           145,
           145,
           145,
           145,
           145,
           145,
           145,
           145,
           145,
           145,
           145,
           145,
           145,
           145,
           145,
           145,
           145,
           145,
           145,
           145,
           145,
           145,
           145,
           145,
           145,
           145,
           145,
           145,
           145,
           145,
           145,
           145,
           145,
           145,
           145,
           145,
           145,
           145,
           145,
           145,
           145,
           145,
           145,
           145,
           145,
           145,
           145,
           37,
           37,
           37,
           37,
           37,
           37,
           37,
           37,
           37,
           37,
           37,
           37,
           37,
           37,
           37,
           37,
           37,
           37,
           37,
           37,
           37,
           37,
           37,
           37,
           37,
           37,
           37,
           37,
           37,
           37,
           37,
           37,
           37,
           37,
           37,
           37,
           37,
           37,
           37,
           37,
           37,
           37,
           37,
           37,
           37,
           37,
           37,
           37,
           37,
           37,
           37,
           37,
           37,
           37,
           37,
           37,
           37,
           37,
           37,
           37,
           37,
           37,
           37,
           37,
           37,
           37,
           37,
           37,
           37,
           37,
           37,
           33,
           33,
           33,
           33,
           33,
           33,
           33,
           33,
           33,
           33,
           33,
           33,
           33,
           33,
           33,
           33,
           33,
           33,
           33,
           33,
           33,
           33,
           33,
           33,
           33,
           33,
           33,
           33,
           33,
           33,
           33,
           33,
           33,
           27,
           27,
           27,
           27,
           27,
           27,
           27,
           27,
           27,
           27,
           27,
           27,
           27,
           27,
           27,
           27,
           27,
           27,
           27,
           27,
           27,
           27,
           27,
           27,
           27,
           19,
           19,
           19,
           19,
           19,
           19,
           19,
           19,
           19,
           19,
           19,
           19,
           19,
           19,
           19,
           19,
           19,
           19,
           19,
           19,
           19,
           19,
           19,
           19,
           19,
           19,
           19,
           19,
           19,
           19,
           19,
           19,
           19,
           19,
           19,
           19,
           13,
           13,
           13,
           13,
           13,
           13,
           13,
           13,
           13,
           13,
           13,
           13,
           11,
           11,
           11,
           11,
           11,
           11,
           11,
           11,
           11,
           11,
           11,
           10,
           10,
           10,
           10,
           10,
           10,
           10,
           10,
           10,
           10,
           10,
           10,
           10,
           10,
           10,
           10,
           10,
           10,
           9,
           9,
           9,
           9,
           9,
           9,
           9,
           9,
           9,
           8,
           8,
           8,
           8,
           8,
           8,
           8,
           8,
           8,
           8,
           8,
           8,
           8,
           8,
           7,
           7,
           7,
           7,
           7,
           7,
           7,
           7,
           7,
           7,
           7,
           7,
           7,
           5,
           5,
           5,
           5,
           5,
           5,
           5,
           5,
           5,
           5,
           5,
           5,
           5,
           4,
           4,
           4,
           4,
           4,
           4,
           4,
           4,
           4,
           4,
           4,
           4,
           4,
           4,
           4,
           3,
           3,
           3,
           3,
           3,
           3,
           3,
           3,
           2,
           2,
           2,
           2,
           2,
           2,
           2,
           2,
           2,
           2,
           2,
           2,
           2,
           2,
           2,
           2,
           2,
           2,
           2,
           1,
           1,
           1,
           1,
           1,
           1,
           1,
           1,
           1,
           1,
           1,
           1,
           1,
           1,
           1,
           1,
           1,
           1,
           1,
           1,
           1,
           1,
           1,
           1,
           1,
           1,
           1,
           1,
           1,
           1,
           1,
           1,
           1,
           1
          ],
          "colorscale": [
           [
            0,
            "rgb(253, 224, 197)"
           ],
           [
            0.16666666666666666,
            "rgb(250, 203, 166)"
           ],
           [
            0.3333333333333333,
            "rgb(248, 181, 139)"
           ],
           [
            0.5,
            "rgb(245, 158, 114)"
           ],
           [
            0.6666666666666666,
            "rgb(242, 133, 93)"
           ],
           [
            0.8333333333333334,
            "rgb(239, 106, 76)"
           ],
           [
            1,
            "rgb(235, 74, 64)"
           ]
          ],
          "shape": "hspline",
          "showscale": true
         },
         "tickfont": {
          "family": "Times",
          "size": 10
         },
         "type": "parcats"
        }
       ],
       "layout": {
        "template": {
         "data": {
          "bar": [
           {
            "error_x": {
             "color": "#2a3f5f"
            },
            "error_y": {
             "color": "#2a3f5f"
            },
            "marker": {
             "line": {
              "color": "#E5ECF6",
              "width": 0.5
             }
            },
            "type": "bar"
           }
          ],
          "barpolar": [
           {
            "marker": {
             "line": {
              "color": "#E5ECF6",
              "width": 0.5
             }
            },
            "type": "barpolar"
           }
          ],
          "carpet": [
           {
            "aaxis": {
             "endlinecolor": "#2a3f5f",
             "gridcolor": "white",
             "linecolor": "white",
             "minorgridcolor": "white",
             "startlinecolor": "#2a3f5f"
            },
            "baxis": {
             "endlinecolor": "#2a3f5f",
             "gridcolor": "white",
             "linecolor": "white",
             "minorgridcolor": "white",
             "startlinecolor": "#2a3f5f"
            },
            "type": "carpet"
           }
          ],
          "choropleth": [
           {
            "colorbar": {
             "outlinewidth": 0,
             "ticks": ""
            },
            "type": "choropleth"
           }
          ],
          "contour": [
           {
            "colorbar": {
             "outlinewidth": 0,
             "ticks": ""
            },
            "colorscale": [
             [
              0,
              "#0d0887"
             ],
             [
              0.1111111111111111,
              "#46039f"
             ],
             [
              0.2222222222222222,
              "#7201a8"
             ],
             [
              0.3333333333333333,
              "#9c179e"
             ],
             [
              0.4444444444444444,
              "#bd3786"
             ],
             [
              0.5555555555555556,
              "#d8576b"
             ],
             [
              0.6666666666666666,
              "#ed7953"
             ],
             [
              0.7777777777777778,
              "#fb9f3a"
             ],
             [
              0.8888888888888888,
              "#fdca26"
             ],
             [
              1,
              "#f0f921"
             ]
            ],
            "type": "contour"
           }
          ],
          "contourcarpet": [
           {
            "colorbar": {
             "outlinewidth": 0,
             "ticks": ""
            },
            "type": "contourcarpet"
           }
          ],
          "heatmap": [
           {
            "colorbar": {
             "outlinewidth": 0,
             "ticks": ""
            },
            "colorscale": [
             [
              0,
              "#0d0887"
             ],
             [
              0.1111111111111111,
              "#46039f"
             ],
             [
              0.2222222222222222,
              "#7201a8"
             ],
             [
              0.3333333333333333,
              "#9c179e"
             ],
             [
              0.4444444444444444,
              "#bd3786"
             ],
             [
              0.5555555555555556,
              "#d8576b"
             ],
             [
              0.6666666666666666,
              "#ed7953"
             ],
             [
              0.7777777777777778,
              "#fb9f3a"
             ],
             [
              0.8888888888888888,
              "#fdca26"
             ],
             [
              1,
              "#f0f921"
             ]
            ],
            "type": "heatmap"
           }
          ],
          "heatmapgl": [
           {
            "colorbar": {
             "outlinewidth": 0,
             "ticks": ""
            },
            "colorscale": [
             [
              0,
              "#0d0887"
             ],
             [
              0.1111111111111111,
              "#46039f"
             ],
             [
              0.2222222222222222,
              "#7201a8"
             ],
             [
              0.3333333333333333,
              "#9c179e"
             ],
             [
              0.4444444444444444,
              "#bd3786"
             ],
             [
              0.5555555555555556,
              "#d8576b"
             ],
             [
              0.6666666666666666,
              "#ed7953"
             ],
             [
              0.7777777777777778,
              "#fb9f3a"
             ],
             [
              0.8888888888888888,
              "#fdca26"
             ],
             [
              1,
              "#f0f921"
             ]
            ],
            "type": "heatmapgl"
           }
          ],
          "histogram": [
           {
            "marker": {
             "colorbar": {
              "outlinewidth": 0,
              "ticks": ""
             }
            },
            "type": "histogram"
           }
          ],
          "histogram2d": [
           {
            "colorbar": {
             "outlinewidth": 0,
             "ticks": ""
            },
            "colorscale": [
             [
              0,
              "#0d0887"
             ],
             [
              0.1111111111111111,
              "#46039f"
             ],
             [
              0.2222222222222222,
              "#7201a8"
             ],
             [
              0.3333333333333333,
              "#9c179e"
             ],
             [
              0.4444444444444444,
              "#bd3786"
             ],
             [
              0.5555555555555556,
              "#d8576b"
             ],
             [
              0.6666666666666666,
              "#ed7953"
             ],
             [
              0.7777777777777778,
              "#fb9f3a"
             ],
             [
              0.8888888888888888,
              "#fdca26"
             ],
             [
              1,
              "#f0f921"
             ]
            ],
            "type": "histogram2d"
           }
          ],
          "histogram2dcontour": [
           {
            "colorbar": {
             "outlinewidth": 0,
             "ticks": ""
            },
            "colorscale": [
             [
              0,
              "#0d0887"
             ],
             [
              0.1111111111111111,
              "#46039f"
             ],
             [
              0.2222222222222222,
              "#7201a8"
             ],
             [
              0.3333333333333333,
              "#9c179e"
             ],
             [
              0.4444444444444444,
              "#bd3786"
             ],
             [
              0.5555555555555556,
              "#d8576b"
             ],
             [
              0.6666666666666666,
              "#ed7953"
             ],
             [
              0.7777777777777778,
              "#fb9f3a"
             ],
             [
              0.8888888888888888,
              "#fdca26"
             ],
             [
              1,
              "#f0f921"
             ]
            ],
            "type": "histogram2dcontour"
           }
          ],
          "mesh3d": [
           {
            "colorbar": {
             "outlinewidth": 0,
             "ticks": ""
            },
            "type": "mesh3d"
           }
          ],
          "parcoords": [
           {
            "line": {
             "colorbar": {
              "outlinewidth": 0,
              "ticks": ""
             }
            },
            "type": "parcoords"
           }
          ],
          "pie": [
           {
            "automargin": true,
            "type": "pie"
           }
          ],
          "scatter": [
           {
            "marker": {
             "colorbar": {
              "outlinewidth": 0,
              "ticks": ""
             }
            },
            "type": "scatter"
           }
          ],
          "scatter3d": [
           {
            "line": {
             "colorbar": {
              "outlinewidth": 0,
              "ticks": ""
             }
            },
            "marker": {
             "colorbar": {
              "outlinewidth": 0,
              "ticks": ""
             }
            },
            "type": "scatter3d"
           }
          ],
          "scattercarpet": [
           {
            "marker": {
             "colorbar": {
              "outlinewidth": 0,
              "ticks": ""
             }
            },
            "type": "scattercarpet"
           }
          ],
          "scattergeo": [
           {
            "marker": {
             "colorbar": {
              "outlinewidth": 0,
              "ticks": ""
             }
            },
            "type": "scattergeo"
           }
          ],
          "scattergl": [
           {
            "marker": {
             "colorbar": {
              "outlinewidth": 0,
              "ticks": ""
             }
            },
            "type": "scattergl"
           }
          ],
          "scattermapbox": [
           {
            "marker": {
             "colorbar": {
              "outlinewidth": 0,
              "ticks": ""
             }
            },
            "type": "scattermapbox"
           }
          ],
          "scatterpolar": [
           {
            "marker": {
             "colorbar": {
              "outlinewidth": 0,
              "ticks": ""
             }
            },
            "type": "scatterpolar"
           }
          ],
          "scatterpolargl": [
           {
            "marker": {
             "colorbar": {
              "outlinewidth": 0,
              "ticks": ""
             }
            },
            "type": "scatterpolargl"
           }
          ],
          "scatterternary": [
           {
            "marker": {
             "colorbar": {
              "outlinewidth": 0,
              "ticks": ""
             }
            },
            "type": "scatterternary"
           }
          ],
          "surface": [
           {
            "colorbar": {
             "outlinewidth": 0,
             "ticks": ""
            },
            "colorscale": [
             [
              0,
              "#0d0887"
             ],
             [
              0.1111111111111111,
              "#46039f"
             ],
             [
              0.2222222222222222,
              "#7201a8"
             ],
             [
              0.3333333333333333,
              "#9c179e"
             ],
             [
              0.4444444444444444,
              "#bd3786"
             ],
             [
              0.5555555555555556,
              "#d8576b"
             ],
             [
              0.6666666666666666,
              "#ed7953"
             ],
             [
              0.7777777777777778,
              "#fb9f3a"
             ],
             [
              0.8888888888888888,
              "#fdca26"
             ],
             [
              1,
              "#f0f921"
             ]
            ],
            "type": "surface"
           }
          ],
          "table": [
           {
            "cells": {
             "fill": {
              "color": "#EBF0F8"
             },
             "line": {
              "color": "white"
             }
            },
            "header": {
             "fill": {
              "color": "#C8D4E3"
             },
             "line": {
              "color": "white"
             }
            },
            "type": "table"
           }
          ]
         },
         "layout": {
          "annotationdefaults": {
           "arrowcolor": "#2a3f5f",
           "arrowhead": 0,
           "arrowwidth": 1
          },
          "autotypenumbers": "strict",
          "coloraxis": {
           "colorbar": {
            "outlinewidth": 0,
            "ticks": ""
           }
          },
          "colorscale": {
           "diverging": [
            [
             0,
             "#8e0152"
            ],
            [
             0.1,
             "#c51b7d"
            ],
            [
             0.2,
             "#de77ae"
            ],
            [
             0.3,
             "#f1b6da"
            ],
            [
             0.4,
             "#fde0ef"
            ],
            [
             0.5,
             "#f7f7f7"
            ],
            [
             0.6,
             "#e6f5d0"
            ],
            [
             0.7,
             "#b8e186"
            ],
            [
             0.8,
             "#7fbc41"
            ],
            [
             0.9,
             "#4d9221"
            ],
            [
             1,
             "#276419"
            ]
           ],
           "sequential": [
            [
             0,
             "#0d0887"
            ],
            [
             0.1111111111111111,
             "#46039f"
            ],
            [
             0.2222222222222222,
             "#7201a8"
            ],
            [
             0.3333333333333333,
             "#9c179e"
            ],
            [
             0.4444444444444444,
             "#bd3786"
            ],
            [
             0.5555555555555556,
             "#d8576b"
            ],
            [
             0.6666666666666666,
             "#ed7953"
            ],
            [
             0.7777777777777778,
             "#fb9f3a"
            ],
            [
             0.8888888888888888,
             "#fdca26"
            ],
            [
             1,
             "#f0f921"
            ]
           ],
           "sequentialminus": [
            [
             0,
             "#0d0887"
            ],
            [
             0.1111111111111111,
             "#46039f"
            ],
            [
             0.2222222222222222,
             "#7201a8"
            ],
            [
             0.3333333333333333,
             "#9c179e"
            ],
            [
             0.4444444444444444,
             "#bd3786"
            ],
            [
             0.5555555555555556,
             "#d8576b"
            ],
            [
             0.6666666666666666,
             "#ed7953"
            ],
            [
             0.7777777777777778,
             "#fb9f3a"
            ],
            [
             0.8888888888888888,
             "#fdca26"
            ],
            [
             1,
             "#f0f921"
            ]
           ]
          },
          "colorway": [
           "#636efa",
           "#EF553B",
           "#00cc96",
           "#ab63fa",
           "#FFA15A",
           "#19d3f3",
           "#FF6692",
           "#B6E880",
           "#FF97FF",
           "#FECB52"
          ],
          "font": {
           "color": "#2a3f5f"
          },
          "geo": {
           "bgcolor": "white",
           "lakecolor": "white",
           "landcolor": "#E5ECF6",
           "showlakes": true,
           "showland": true,
           "subunitcolor": "white"
          },
          "hoverlabel": {
           "align": "left"
          },
          "hovermode": "closest",
          "mapbox": {
           "style": "light"
          },
          "paper_bgcolor": "white",
          "plot_bgcolor": "#E5ECF6",
          "polar": {
           "angularaxis": {
            "gridcolor": "white",
            "linecolor": "white",
            "ticks": ""
           },
           "bgcolor": "#E5ECF6",
           "radialaxis": {
            "gridcolor": "white",
            "linecolor": "white",
            "ticks": ""
           }
          },
          "scene": {
           "xaxis": {
            "backgroundcolor": "#E5ECF6",
            "gridcolor": "white",
            "gridwidth": 2,
            "linecolor": "white",
            "showbackground": true,
            "ticks": "",
            "zerolinecolor": "white"
           },
           "yaxis": {
            "backgroundcolor": "#E5ECF6",
            "gridcolor": "white",
            "gridwidth": 2,
            "linecolor": "white",
            "showbackground": true,
            "ticks": "",
            "zerolinecolor": "white"
           },
           "zaxis": {
            "backgroundcolor": "#E5ECF6",
            "gridcolor": "white",
            "gridwidth": 2,
            "linecolor": "white",
            "showbackground": true,
            "ticks": "",
            "zerolinecolor": "white"
           }
          },
          "shapedefaults": {
           "line": {
            "color": "#2a3f5f"
           }
          },
          "ternary": {
           "aaxis": {
            "gridcolor": "white",
            "linecolor": "white",
            "ticks": ""
           },
           "baxis": {
            "gridcolor": "white",
            "linecolor": "white",
            "ticks": ""
           },
           "bgcolor": "#E5ECF6",
           "caxis": {
            "gridcolor": "white",
            "linecolor": "white",
            "ticks": ""
           }
          },
          "title": {
           "x": 0.05
          },
          "xaxis": {
           "automargin": true,
           "gridcolor": "white",
           "linecolor": "white",
           "ticks": "",
           "title": {
            "standoff": 15
           },
           "zerolinecolor": "white",
           "zerolinewidth": 2
          },
          "yaxis": {
           "automargin": true,
           "gridcolor": "white",
           "linecolor": "white",
           "ticks": "",
           "title": {
            "standoff": 15
           },
           "zerolinecolor": "white",
           "zerolinewidth": 2
          }
         }
        }
       }
      },
      "text/html": [
       "<div>                            <div id=\"1cf486be-af06-4f12-b5a0-76d24317e61b\" class=\"plotly-graph-div\" style=\"height:525px; width:100%;\"></div>            <script type=\"text/javascript\">                require([\"plotly\"], function(Plotly) {                    window.PLOTLYENV=window.PLOTLYENV || {};                                    if (document.getElementById(\"1cf486be-af06-4f12-b5a0-76d24317e61b\")) {                    Plotly.newPlot(                        \"1cf486be-af06-4f12-b5a0-76d24317e61b\",                        [{\"arrangement\": \"freeform\", \"dimensions\": [{\"label\": \"First version\", \"values\": [\"R\", \"R\", \"R\", \"R\", \"R\", \"R\", \"R\", \"R\", \"R\", \"R\", \"R\", \"R\", \"R\", \"R\", \"R\", \"R\", \"R\", \"R\", \"R\", \"R\", \"R\", \"R\", \"R\", \"R\", \"R\", \"R\", \"R\", \"R\", \"R\", \"R\", \"R\", \"R\", \"R\", \"R\", \"R\", \"R\", \"R\", \"R\", \"R\", \"R\", \"R\", \"R\", \"R\", \"R\", \"R\", \"R\", \"R\", \"R\", \"R\", \"R\", \"R\", \"R\", \"R\", \"R\", \"R\", \"R\", \"R\", \"R\", \"R\", \"R\", \"R\", \"R\", \"R\", \"R\", \"R\", \"R\", \"R\", \"R\", \"R\", \"R\", \"R\", \"R\", \"R\", \"R\", \"R\", \"R\", \"R\", \"R\", \"R\", \"R\", \"R\", \"R\", \"R\", \"R\", \"R\", \"R\", \"R\", \"R\", \"R\", \"R\", \"R\", \"R\", \"R\", \"R\", \"R\", \"R\", \"R\", \"R\", \"R\", \"R\", \"R\", \"R\", \"R\", \"R\", \"R\", \"R\", \"R\", \"R\", \"R\", \"R\", \"R\", \"R\", \"R\", \"R\", \"R\", \"R\", \"R\", \"R\", \"R\", \"R\", \"R\", \"R\", \"R\", \"R\", \"R\", \"R\", \"R\", \"R\", \"R\", \"R\", \"R\", \"R\", \"R\", \"R\", \"R\", \"R\", \"R\", \"R\", \"R\", \"R\", \"R\", \"R\", \"D\", \"R + K\", \"D\", \"R + K\", \"R + K\", \"R + K\", \"R + K\", \"R + K\", \"R + K\", \"R + K\", \"R + K\", \"R + K\", \"D\", \"D\", \"R + K\", \"R + K\", \"D\", \"R + K\", \"D\", \"D\", \"R + K\", \"D\", \"R + K\", \"D\", \"R + K\", \"D\", \"D\", \"R + K\", \"D\", \"R + K\", \"R + K\", \"D\", \"D\", \"R + K\", \"R + K\", \"R + K\", \"R + K\", \"D\", \"D\", \"D\", \"D\", \"D\", \"D\", \"R + K\", \"D\", \"R + K\", \"D\", \"D\", \"D\", \"D\", \"D\", \"D\", \"R + K\", \"R + K\", \"D\", \"D\", \"R + K\", \"R + K\", \"R + K\", \"R + K\", \"D\", \"D\", \"R + K\", \"R + K\", \"R + K\", \"D\", \"D\", \"D\", \"D\", \"R + K\", \"D\", \"D\", \"D\", \"D\", \"D\", \"D\", \"D\", \"D\", \"D\", \"D\", \"D\", \"D\", \"D\", \"D\", \"D\", \"D\", \"D\", \"D\", \"D\", \"D\", \"D\", \"D\", \"D\", \"D\", \"D\", \"D\", \"D\", \"D\", \"D\", \"D\", \"D\", \"D\", \"D\", \"D\", \"K\", \"K\", \"K\", \"K\", \"K\", \"K\", \"K\", \"K\", \"K\", \"K\", \"K\", \"K\", \"K\", \"K\", \"K\", \"K\", \"K\", \"K\", \"K\", \"K\", \"K\", \"K\", \"K\", \"K\", \"K\", \"R + K\", \"R + K\", \"R\", \"R + K\", \"R\", \"R + K\", \"R + K\", \"R + K\", \"R + K\", \"R\", \"R\", \"R + K\", \"R\", \"R\", \"R\", \"R\", \"R + K\", \"R + K\", \"R\", \"R\", \"R\", \"R + K\", \"R\", \"R + K\", \"R\", \"R + K\", \"R + K\", \"R + K\", \"R\", \"R\", \"R + K\", \"R + K\", \"R\", \"R + K\", \"R\", \"R\", \"K\", \"K\", \"K\", \"K\", \"K\", \"K\", \"K\", \"K\", \"K\", \"K\", \"K\", \"K\", \"D + K\", \"D + K\", \"D + K\", \"D + K\", \"D + K\", \"D + K\", \"D + K\", \"D + K\", \"D + K\", \"D + K\", \"D + K\", \"D + K\", \"D + K\", \"D\", \"D + K\", \"D\", \"D\", \"D\", \"D + K\", \"D\", \"D\", \"D + K\", \"D\", \"D\", \"D + K\", \"D + K\", \"D\", \"D\", \"D + K\", \"R\", \"R\", \"R\", \"R\", \"R\", \"R\", \"R\", \"R\", \"R\", \"R + D\", \"D + K\", \"R + D\", \"R + D\", \"D + K\", \"R + D\", \"R + D\", \"D + K\", \"D + K\", \"D + K\", \"D + K\", \"R + D\", \"D + K\", \"R + D\", \"R\", \"R + D\", \"R + D\", \"R\", \"R + D\", \"R + D\", \"R + D\", \"R + D\", \"R\", \"R\", \"R\", \"R\", \"R\", \"R\", \"R + K\", \"K\", \"R\", \"R\", \"R\", \"R + K\", \"R\", \"K\", \"K\", \"K\", \"R + K\", \"R + K\", \"K\", \"R + D + K\", \"R + D + K\", \"K\", \"R + D + K\", \"R + D + K\", \"K\", \"R + D + K\", \"R + D + K\", \"R\", \"R\", \"R + D + K\", \"R\", \"K\", \"R\", \"R + D\", \"D\", \"D\", \"R + D\", \"R + D + K\", \"R + D + K\", \"D\", \"R + D\", \"C\", \"R + D\", \"D + C\", \"D\", \"R + C\", \"D\", \"D\", \"R + G\", \"R + K\", \"K + C\", \"K + C\", \"C\", \"R + K\", \"R + D\", \"R + C\", \"D\", \"D + C\", \"R + G\", \"K + C\", \"R + D + K + C\", \"R + D + C\", \"K\", \"D + K + G\", \"R + D + K\", \"D + C\", \"R + D + K + C\", \"D + K + C\", \"R + C\", \"D\", \"G\", \"R + K\", \"G\", \"D + K\", \"R + K\", \"D + K + C\", \"R + G\", \"R + K + C\", \"R + K + C\", \"K + C\", \"R + D\", \"R + K\", \"D\", \"R\", \"R\", \"R + D + K + C\", \"C\", \"D + K + C\", \"R + D + K\", \"D\", \"C\", \"R + C\", \"R\", \"R + K\"]}, {\"label\": \"Latest version\", \"values\": [\"R + K\", \"R + K\", \"R + K\", \"R + K\", \"R + K\", \"R + K\", \"R + K\", \"R + K\", \"R + K\", \"R + K\", \"R + K\", \"R + K\", \"R + K\", \"R + K\", \"R + K\", \"R + K\", \"R + K\", \"R + K\", \"R + K\", \"R + K\", \"R + K\", \"R + K\", \"R + K\", \"R + K\", \"R + K\", \"R + K\", \"R + K\", \"R + K\", \"R + K\", \"R + K\", \"R + K\", \"R + K\", \"R + K\", \"R + K\", \"R + K\", \"R + K\", \"R + K\", \"R + K\", \"R + K\", \"R + K\", \"R + K\", \"R + K\", \"R + K\", \"R + K\", \"R + K\", \"R + K\", \"R + K\", \"R + K\", \"R + K\", \"R + K\", \"R + K\", \"R + K\", \"R + K\", \"R + K\", \"R + K\", \"R + K\", \"R + K\", \"R + K\", \"R + K\", \"R + K\", \"R + K\", \"R + K\", \"R + K\", \"R + K\", \"R + K\", \"R + K\", \"R + K\", \"R + K\", \"R + K\", \"R + K\", \"R + K\", \"R + K\", \"R + K\", \"R + K\", \"R + K\", \"R + K\", \"R + K\", \"R + K\", \"R + K\", \"R + K\", \"R + K\", \"R + K\", \"R + K\", \"R + K\", \"R + K\", \"R + K\", \"R + K\", \"R + K\", \"R + K\", \"R + K\", \"R + K\", \"R + K\", \"R + K\", \"R + K\", \"R + K\", \"R + K\", \"R + K\", \"R + K\", \"R + K\", \"R + K\", \"R + K\", \"R + K\", \"R + K\", \"R + K\", \"R + K\", \"R + K\", \"R + K\", \"R + K\", \"R + K\", \"R + K\", \"R + K\", \"R + K\", \"R + K\", \"R + K\", \"R + K\", \"R + K\", \"R + K\", \"R + K\", \"R + K\", \"R + K\", \"R + K\", \"R + K\", \"R + K\", \"R + K\", \"R + K\", \"R + K\", \"R + K\", \"R + K\", \"R + K\", \"R + K\", \"R + K\", \"R + K\", \"R + K\", \"R + K\", \"R + K\", \"R + K\", \"R + K\", \"R + K\", \"R + K\", \"R + K\", \"R + K\", \"R + K\", \"D + K\", \"R\", \"D + K\", \"R\", \"R\", \"R\", \"R\", \"R\", \"R\", \"R\", \"R\", \"R\", \"D + K\", \"D + K\", \"R\", \"R\", \"D + K\", \"R\", \"D + K\", \"D + K\", \"R\", \"D + K\", \"R\", \"D + K\", \"R\", \"D + K\", \"D + K\", \"R\", \"D + K\", \"R\", \"R\", \"D + K\", \"D + K\", \"R\", \"R\", \"R\", \"R\", \"D + K\", \"D + K\", \"D + K\", \"D + K\", \"D + K\", \"D + K\", \"R\", \"D + K\", \"R\", \"D + K\", \"D + K\", \"D + K\", \"D + K\", \"D + K\", \"D + K\", \"R\", \"R\", \"D + K\", \"D + K\", \"R\", \"R\", \"R\", \"R\", \"D + K\", \"D + K\", \"R\", \"R\", \"R\", \"D + K\", \"D + K\", \"D + K\", \"D + K\", \"R\", \"D + K\", \"R + D\", \"R + D\", \"R + D\", \"R + D\", \"R + D\", \"R + D\", \"R + D\", \"R + D\", \"R + D\", \"R + D\", \"R + D\", \"R + D\", \"R + D\", \"R + D\", \"R + D\", \"R + D\", \"R + D\", \"R + D\", \"R + D\", \"R + D\", \"R + D\", \"R + D\", \"R + D\", \"R + D\", \"R + D\", \"R + D\", \"R + D\", \"R + D\", \"R + D\", \"R + D\", \"R + D\", \"R + D\", \"R + D\", \"R + K\", \"R + K\", \"R + K\", \"R + K\", \"R + K\", \"R + K\", \"R + K\", \"R + K\", \"R + K\", \"R + K\", \"R + K\", \"R + K\", \"R + K\", \"R + K\", \"R + K\", \"R + K\", \"R + K\", \"R + K\", \"R + K\", \"R + K\", \"R + K\", \"R + K\", \"R + K\", \"R + K\", \"R + K\", \"K\", \"K\", \"R + D\", \"K\", \"R + D\", \"K\", \"K\", \"K\", \"K\", \"R + D\", \"R + D\", \"K\", \"R + D\", \"R + D\", \"R + D\", \"R + D\", \"K\", \"K\", \"R + D\", \"R + D\", \"R + D\", \"K\", \"R + D\", \"K\", \"R + D\", \"K\", \"K\", \"K\", \"R + D\", \"R + D\", \"K\", \"K\", \"R + D\", \"K\", \"R + D\", \"R + D\", \"D + K\", \"D + K\", \"D + K\", \"D + K\", \"D + K\", \"D + K\", \"D + K\", \"D + K\", \"D + K\", \"D + K\", \"D + K\", \"D + K\", \"D\", \"D\", \"D\", \"D\", \"D\", \"D\", \"D\", \"D\", \"D\", \"D\", \"D\", \"R + D + K\", \"R + D + K\", \"R\", \"R + D + K\", \"R\", \"R\", \"R\", \"R + D + K\", \"R\", \"R\", \"R + D + K\", \"R\", \"R\", \"R + D + K\", \"R + D + K\", \"R\", \"R\", \"R + D + K\", \"R + D + K\", \"R + D + K\", \"R + D + K\", \"R + D + K\", \"R + D + K\", \"R + D + K\", \"R + D + K\", \"R + D + K\", \"R + D + K\", \"R\", \"K\", \"R\", \"R\", \"K\", \"R\", \"R\", \"K\", \"K\", \"K\", \"K\", \"R\", \"K\", \"R\", \"K\", \"R + D + K\", \"R + D + K\", \"K\", \"R + D + K\", \"R + D + K\", \"R + D + K\", \"R + D + K\", \"K\", \"K\", \"K\", \"K\", \"K\", \"R + C\", \"R + D + K\", \"R\", \"R + C\", \"R + C\", \"R + C\", \"R + D + K\", \"R + C\", \"R\", \"R\", \"R\", \"R + D + K\", \"R + D + K\", \"K + C\", \"R + K\", \"R\", \"K + C\", \"R + K\", \"R + K\", \"K + C\", \"R\", \"R\", \"D\", \"D\", \"R + K\", \"D\", \"K + C\", \"D\", \"D\", \"K\", \"K\", \"D\", \"R + D + K + C\", \"R + D + K + C\", \"K\", \"D\", \"R + C\", \"D + K\", \"D\", \"D + C\", \"R + K + C\", \"R + D + K\", \"R + D + K\", \"R\", \"D + K\", \"C\", \"R + K + C\", \"R + C\", \"D + K\", \"D + K\", \"R + K + C\", \"D + C\", \"D\", \"R\", \"C\", \"R + D + K\", \"R + D + K + C\", \"D + K + C + G\", \"D + K\", \"K\", \"D + K + C\", \"R + D + K + C + G\", \"D + K + C + G\", \"C\", \"R + D + G\", \"C + G\", \"R + D + K + G\", \"K + G\", \"R + D\", \"R + D + K + C + G\", \"K\", \"G\", \"R + D + K + C\", \"K\", \"K\", \"R + D + C\", \"R + D\", \"R + D + K + G\", \"D + K + G\", \"D + K\", \"R + D\", \"D + C\", \"C\", \"R + D + K + C + G\", \"D + K + C\", \"D + K + C\", \"R + D + K + C\", \"R + G\", \"R + D + K + C\"]}], \"hoverinfo\": \"count\", \"hoveron\": \"category\", \"labelfont\": {\"family\": \"Times\", \"size\": 20}, \"line\": {\"color\": [145, 145, 145, 145, 145, 145, 145, 145, 145, 145, 145, 145, 145, 145, 145, 145, 145, 145, 145, 145, 145, 145, 145, 145, 145, 145, 145, 145, 145, 145, 145, 145, 145, 145, 145, 145, 145, 145, 145, 145, 145, 145, 145, 145, 145, 145, 145, 145, 145, 145, 145, 145, 145, 145, 145, 145, 145, 145, 145, 145, 145, 145, 145, 145, 145, 145, 145, 145, 145, 145, 145, 145, 145, 145, 145, 145, 145, 145, 145, 145, 145, 145, 145, 145, 145, 145, 145, 145, 145, 145, 145, 145, 145, 145, 145, 145, 145, 145, 145, 145, 145, 145, 145, 145, 145, 145, 145, 145, 145, 145, 145, 145, 145, 145, 145, 145, 145, 145, 145, 145, 145, 145, 145, 145, 145, 145, 145, 145, 145, 145, 145, 145, 145, 145, 145, 145, 145, 145, 145, 145, 145, 145, 37, 37, 37, 37, 37, 37, 37, 37, 37, 37, 37, 37, 37, 37, 37, 37, 37, 37, 37, 37, 37, 37, 37, 37, 37, 37, 37, 37, 37, 37, 37, 37, 37, 37, 37, 37, 37, 37, 37, 37, 37, 37, 37, 37, 37, 37, 37, 37, 37, 37, 37, 37, 37, 37, 37, 37, 37, 37, 37, 37, 37, 37, 37, 37, 37, 37, 37, 37, 37, 37, 37, 33, 33, 33, 33, 33, 33, 33, 33, 33, 33, 33, 33, 33, 33, 33, 33, 33, 33, 33, 33, 33, 33, 33, 33, 33, 33, 33, 33, 33, 33, 33, 33, 33, 27, 27, 27, 27, 27, 27, 27, 27, 27, 27, 27, 27, 27, 27, 27, 27, 27, 27, 27, 27, 27, 27, 27, 27, 27, 19, 19, 19, 19, 19, 19, 19, 19, 19, 19, 19, 19, 19, 19, 19, 19, 19, 19, 19, 19, 19, 19, 19, 19, 19, 19, 19, 19, 19, 19, 19, 19, 19, 19, 19, 19, 13, 13, 13, 13, 13, 13, 13, 13, 13, 13, 13, 13, 11, 11, 11, 11, 11, 11, 11, 11, 11, 11, 11, 10, 10, 10, 10, 10, 10, 10, 10, 10, 10, 10, 10, 10, 10, 10, 10, 10, 10, 9, 9, 9, 9, 9, 9, 9, 9, 9, 8, 8, 8, 8, 8, 8, 8, 8, 8, 8, 8, 8, 8, 8, 7, 7, 7, 7, 7, 7, 7, 7, 7, 7, 7, 7, 7, 5, 5, 5, 5, 5, 5, 5, 5, 5, 5, 5, 5, 5, 4, 4, 4, 4, 4, 4, 4, 4, 4, 4, 4, 4, 4, 4, 4, 3, 3, 3, 3, 3, 3, 3, 3, 2, 2, 2, 2, 2, 2, 2, 2, 2, 2, 2, 2, 2, 2, 2, 2, 2, 2, 2, 1, 1, 1, 1, 1, 1, 1, 1, 1, 1, 1, 1, 1, 1, 1, 1, 1, 1, 1, 1, 1, 1, 1, 1, 1, 1, 1, 1, 1, 1, 1, 1, 1, 1], \"colorscale\": [[0.0, \"rgb(253, 224, 197)\"], [0.16666666666666666, \"rgb(250, 203, 166)\"], [0.3333333333333333, \"rgb(248, 181, 139)\"], [0.5, \"rgb(245, 158, 114)\"], [0.6666666666666666, \"rgb(242, 133, 93)\"], [0.8333333333333334, \"rgb(239, 106, 76)\"], [1.0, \"rgb(235, 74, 64)\"]], \"shape\": \"hspline\", \"showscale\": true}, \"tickfont\": {\"family\": \"Times\", \"size\": 10}, \"type\": \"parcats\"}],                        {\"template\": {\"data\": {\"bar\": [{\"error_x\": {\"color\": \"#2a3f5f\"}, \"error_y\": {\"color\": \"#2a3f5f\"}, \"marker\": {\"line\": {\"color\": \"#E5ECF6\", \"width\": 0.5}}, \"type\": \"bar\"}], \"barpolar\": [{\"marker\": {\"line\": {\"color\": \"#E5ECF6\", \"width\": 0.5}}, \"type\": \"barpolar\"}], \"carpet\": [{\"aaxis\": {\"endlinecolor\": \"#2a3f5f\", \"gridcolor\": \"white\", \"linecolor\": \"white\", \"minorgridcolor\": \"white\", \"startlinecolor\": \"#2a3f5f\"}, \"baxis\": {\"endlinecolor\": \"#2a3f5f\", \"gridcolor\": \"white\", \"linecolor\": \"white\", \"minorgridcolor\": \"white\", \"startlinecolor\": \"#2a3f5f\"}, \"type\": \"carpet\"}], \"choropleth\": [{\"colorbar\": {\"outlinewidth\": 0, \"ticks\": \"\"}, \"type\": \"choropleth\"}], \"contour\": [{\"colorbar\": {\"outlinewidth\": 0, \"ticks\": \"\"}, \"colorscale\": [[0.0, \"#0d0887\"], [0.1111111111111111, \"#46039f\"], [0.2222222222222222, \"#7201a8\"], [0.3333333333333333, \"#9c179e\"], [0.4444444444444444, \"#bd3786\"], [0.5555555555555556, \"#d8576b\"], [0.6666666666666666, \"#ed7953\"], [0.7777777777777778, \"#fb9f3a\"], [0.8888888888888888, \"#fdca26\"], [1.0, \"#f0f921\"]], \"type\": \"contour\"}], \"contourcarpet\": [{\"colorbar\": {\"outlinewidth\": 0, \"ticks\": \"\"}, \"type\": \"contourcarpet\"}], \"heatmap\": [{\"colorbar\": {\"outlinewidth\": 0, \"ticks\": \"\"}, \"colorscale\": [[0.0, \"#0d0887\"], [0.1111111111111111, \"#46039f\"], [0.2222222222222222, \"#7201a8\"], [0.3333333333333333, \"#9c179e\"], [0.4444444444444444, \"#bd3786\"], [0.5555555555555556, \"#d8576b\"], [0.6666666666666666, \"#ed7953\"], [0.7777777777777778, \"#fb9f3a\"], [0.8888888888888888, \"#fdca26\"], [1.0, \"#f0f921\"]], \"type\": \"heatmap\"}], \"heatmapgl\": [{\"colorbar\": {\"outlinewidth\": 0, \"ticks\": \"\"}, \"colorscale\": [[0.0, \"#0d0887\"], [0.1111111111111111, \"#46039f\"], [0.2222222222222222, \"#7201a8\"], [0.3333333333333333, \"#9c179e\"], [0.4444444444444444, \"#bd3786\"], [0.5555555555555556, \"#d8576b\"], [0.6666666666666666, \"#ed7953\"], [0.7777777777777778, \"#fb9f3a\"], [0.8888888888888888, \"#fdca26\"], [1.0, \"#f0f921\"]], \"type\": \"heatmapgl\"}], \"histogram\": [{\"marker\": {\"colorbar\": {\"outlinewidth\": 0, \"ticks\": \"\"}}, \"type\": \"histogram\"}], \"histogram2d\": [{\"colorbar\": {\"outlinewidth\": 0, \"ticks\": \"\"}, \"colorscale\": [[0.0, \"#0d0887\"], [0.1111111111111111, \"#46039f\"], [0.2222222222222222, \"#7201a8\"], [0.3333333333333333, \"#9c179e\"], [0.4444444444444444, \"#bd3786\"], [0.5555555555555556, \"#d8576b\"], [0.6666666666666666, \"#ed7953\"], [0.7777777777777778, \"#fb9f3a\"], [0.8888888888888888, \"#fdca26\"], [1.0, \"#f0f921\"]], \"type\": \"histogram2d\"}], \"histogram2dcontour\": [{\"colorbar\": {\"outlinewidth\": 0, \"ticks\": \"\"}, \"colorscale\": [[0.0, \"#0d0887\"], [0.1111111111111111, \"#46039f\"], [0.2222222222222222, \"#7201a8\"], [0.3333333333333333, \"#9c179e\"], [0.4444444444444444, \"#bd3786\"], [0.5555555555555556, \"#d8576b\"], [0.6666666666666666, \"#ed7953\"], [0.7777777777777778, \"#fb9f3a\"], [0.8888888888888888, \"#fdca26\"], [1.0, \"#f0f921\"]], \"type\": \"histogram2dcontour\"}], \"mesh3d\": [{\"colorbar\": {\"outlinewidth\": 0, \"ticks\": \"\"}, \"type\": \"mesh3d\"}], \"parcoords\": [{\"line\": {\"colorbar\": {\"outlinewidth\": 0, \"ticks\": \"\"}}, \"type\": \"parcoords\"}], \"pie\": [{\"automargin\": true, \"type\": \"pie\"}], \"scatter\": [{\"marker\": {\"colorbar\": {\"outlinewidth\": 0, \"ticks\": \"\"}}, \"type\": \"scatter\"}], \"scatter3d\": [{\"line\": {\"colorbar\": {\"outlinewidth\": 0, \"ticks\": \"\"}}, \"marker\": {\"colorbar\": {\"outlinewidth\": 0, \"ticks\": \"\"}}, \"type\": \"scatter3d\"}], \"scattercarpet\": [{\"marker\": {\"colorbar\": {\"outlinewidth\": 0, \"ticks\": \"\"}}, \"type\": \"scattercarpet\"}], \"scattergeo\": [{\"marker\": {\"colorbar\": {\"outlinewidth\": 0, \"ticks\": \"\"}}, \"type\": \"scattergeo\"}], \"scattergl\": [{\"marker\": {\"colorbar\": {\"outlinewidth\": 0, \"ticks\": \"\"}}, \"type\": \"scattergl\"}], \"scattermapbox\": [{\"marker\": {\"colorbar\": {\"outlinewidth\": 0, \"ticks\": \"\"}}, \"type\": \"scattermapbox\"}], \"scatterpolar\": [{\"marker\": {\"colorbar\": {\"outlinewidth\": 0, \"ticks\": \"\"}}, \"type\": \"scatterpolar\"}], \"scatterpolargl\": [{\"marker\": {\"colorbar\": {\"outlinewidth\": 0, \"ticks\": \"\"}}, \"type\": \"scatterpolargl\"}], \"scatterternary\": [{\"marker\": {\"colorbar\": {\"outlinewidth\": 0, \"ticks\": \"\"}}, \"type\": \"scatterternary\"}], \"surface\": [{\"colorbar\": {\"outlinewidth\": 0, \"ticks\": \"\"}, \"colorscale\": [[0.0, \"#0d0887\"], [0.1111111111111111, \"#46039f\"], [0.2222222222222222, \"#7201a8\"], [0.3333333333333333, \"#9c179e\"], [0.4444444444444444, \"#bd3786\"], [0.5555555555555556, \"#d8576b\"], [0.6666666666666666, \"#ed7953\"], [0.7777777777777778, \"#fb9f3a\"], [0.8888888888888888, \"#fdca26\"], [1.0, \"#f0f921\"]], \"type\": \"surface\"}], \"table\": [{\"cells\": {\"fill\": {\"color\": \"#EBF0F8\"}, \"line\": {\"color\": \"white\"}}, \"header\": {\"fill\": {\"color\": \"#C8D4E3\"}, \"line\": {\"color\": \"white\"}}, \"type\": \"table\"}]}, \"layout\": {\"annotationdefaults\": {\"arrowcolor\": \"#2a3f5f\", \"arrowhead\": 0, \"arrowwidth\": 1}, \"autotypenumbers\": \"strict\", \"coloraxis\": {\"colorbar\": {\"outlinewidth\": 0, \"ticks\": \"\"}}, \"colorscale\": {\"diverging\": [[0, \"#8e0152\"], [0.1, \"#c51b7d\"], [0.2, \"#de77ae\"], [0.3, \"#f1b6da\"], [0.4, \"#fde0ef\"], [0.5, \"#f7f7f7\"], [0.6, \"#e6f5d0\"], [0.7, \"#b8e186\"], [0.8, \"#7fbc41\"], [0.9, \"#4d9221\"], [1, \"#276419\"]], \"sequential\": [[0.0, \"#0d0887\"], [0.1111111111111111, \"#46039f\"], [0.2222222222222222, \"#7201a8\"], [0.3333333333333333, \"#9c179e\"], [0.4444444444444444, \"#bd3786\"], [0.5555555555555556, \"#d8576b\"], [0.6666666666666666, \"#ed7953\"], [0.7777777777777778, \"#fb9f3a\"], [0.8888888888888888, \"#fdca26\"], [1.0, \"#f0f921\"]], \"sequentialminus\": [[0.0, \"#0d0887\"], [0.1111111111111111, \"#46039f\"], [0.2222222222222222, \"#7201a8\"], [0.3333333333333333, \"#9c179e\"], [0.4444444444444444, \"#bd3786\"], [0.5555555555555556, \"#d8576b\"], [0.6666666666666666, \"#ed7953\"], [0.7777777777777778, \"#fb9f3a\"], [0.8888888888888888, \"#fdca26\"], [1.0, \"#f0f921\"]]}, \"colorway\": [\"#636efa\", \"#EF553B\", \"#00cc96\", \"#ab63fa\", \"#FFA15A\", \"#19d3f3\", \"#FF6692\", \"#B6E880\", \"#FF97FF\", \"#FECB52\"], \"font\": {\"color\": \"#2a3f5f\"}, \"geo\": {\"bgcolor\": \"white\", \"lakecolor\": \"white\", \"landcolor\": \"#E5ECF6\", \"showlakes\": true, \"showland\": true, \"subunitcolor\": \"white\"}, \"hoverlabel\": {\"align\": \"left\"}, \"hovermode\": \"closest\", \"mapbox\": {\"style\": \"light\"}, \"paper_bgcolor\": \"white\", \"plot_bgcolor\": \"#E5ECF6\", \"polar\": {\"angularaxis\": {\"gridcolor\": \"white\", \"linecolor\": \"white\", \"ticks\": \"\"}, \"bgcolor\": \"#E5ECF6\", \"radialaxis\": {\"gridcolor\": \"white\", \"linecolor\": \"white\", \"ticks\": \"\"}}, \"scene\": {\"xaxis\": {\"backgroundcolor\": \"#E5ECF6\", \"gridcolor\": \"white\", \"gridwidth\": 2, \"linecolor\": \"white\", \"showbackground\": true, \"ticks\": \"\", \"zerolinecolor\": \"white\"}, \"yaxis\": {\"backgroundcolor\": \"#E5ECF6\", \"gridcolor\": \"white\", \"gridwidth\": 2, \"linecolor\": \"white\", \"showbackground\": true, \"ticks\": \"\", \"zerolinecolor\": \"white\"}, \"zaxis\": {\"backgroundcolor\": \"#E5ECF6\", \"gridcolor\": \"white\", \"gridwidth\": 2, \"linecolor\": \"white\", \"showbackground\": true, \"ticks\": \"\", \"zerolinecolor\": \"white\"}}, \"shapedefaults\": {\"line\": {\"color\": \"#2a3f5f\"}}, \"ternary\": {\"aaxis\": {\"gridcolor\": \"white\", \"linecolor\": \"white\", \"ticks\": \"\"}, \"baxis\": {\"gridcolor\": \"white\", \"linecolor\": \"white\", \"ticks\": \"\"}, \"bgcolor\": \"#E5ECF6\", \"caxis\": {\"gridcolor\": \"white\", \"linecolor\": \"white\", \"ticks\": \"\"}}, \"title\": {\"x\": 0.05}, \"xaxis\": {\"automargin\": true, \"gridcolor\": \"white\", \"linecolor\": \"white\", \"ticks\": \"\", \"title\": {\"standoff\": 15}, \"zerolinecolor\": \"white\", \"zerolinewidth\": 2}, \"yaxis\": {\"automargin\": true, \"gridcolor\": \"white\", \"linecolor\": \"white\", \"ticks\": \"\", \"title\": {\"standoff\": 15}, \"zerolinecolor\": \"white\", \"zerolinewidth\": 2}}}},                        {\"responsive\": true}                    ).then(function(){\n",
       "                            \n",
       "var gd = document.getElementById('1cf486be-af06-4f12-b5a0-76d24317e61b');\n",
       "var x = new MutationObserver(function (mutations, observer) {{\n",
       "        var display = window.getComputedStyle(gd).display;\n",
       "        if (!display || display === 'none') {{\n",
       "            console.log([gd, 'removed!']);\n",
       "            Plotly.purge(gd);\n",
       "            observer.disconnect();\n",
       "        }}\n",
       "}});\n",
       "\n",
       "// Listen for the removal of the full notebook cells\n",
       "var notebookContainer = gd.closest('#notebook-container');\n",
       "if (notebookContainer) {{\n",
       "    x.observe(notebookContainer, {childList: true});\n",
       "}}\n",
       "\n",
       "// Listen for the clearing of the current output cell\n",
       "var outputEl = gd.closest('.output');\n",
       "if (outputEl) {{\n",
       "    x.observe(outputEl, {childList: true});\n",
       "}}\n",
       "\n",
       "                        })                };                });            </script>        </div>"
      ]
     },
     "metadata": {},
     "output_type": "display_data"
    }
   ],
   "source": [
    "#This query returns the total number of filtered repositories of the survey which evolved their data model(s)\n",
    "countNumberOfRepositories = '''SELECT COUNT(DISTINCT REPOSITORY_NAME) AS TOTAL_NUMBER_OF_FILTERED_EVOLVING_REPOSITORIES FROM SQL_NOSQL_DBMS_TYPE_SURVIVAL_ANALYSIS_REPO_GLOBAL;'''\n",
    "\n",
    "dfCountNumberOfRepositories = pd.read_sql_query(countNumberOfRepositories, connection)\n",
    "\n",
    "print(dfCountNumberOfRepositories)\n",
    "\n",
    "query = '''SELECT SOURCE_STATE_TEXT AS INITIAL_VERSION,\n",
    "       FINAL_STATE_TEXT AS LATEST_VERSION,\n",
    "       GLOBAL_EVOLUTION_TYPE_COUNT_FILTERED AS NUMBER_OF_EVOLVING_REPOSITORIES\n",
    "FROM SQL_NOSQL_DBMS_TYPE_SURVIVAL_ANALYSIS_REPO_GLOBAL\n",
    "ORDER BY GLOBAL_EVOLUTION_TYPE_COUNT_FILTERED DESC;'''\n",
    "\n",
    "survival_df = pd.read_sql_query(query, connection)\n",
    "\n",
    "# Create dimensions\n",
    "source_state_dimension = go.parcats.Dimension(values=survival_df.INITIAL_VERSION, label=\"First version\")\n",
    "final_state_dimension = go.parcats.Dimension(values=survival_df.LATEST_VERSION, label=\"Latest version\")\n",
    "\n",
    "# Create colors\n",
    "colorscale1 = [[0, 'lightblue'], [1, 'blue']]\n",
    "colorscale2 = px.colors.sequential.Peach\n",
    "\n",
    "# Create parcats trace\n",
    "fig = go.Figure(data = [go.Parcats(dimensions=[source_state_dimension, final_state_dimension],\n",
    "        #line={'colorscale': colorscale, 'cmin': 0, 'cmax': 1, 'color': color, 'shape': 'hspline'},\n",
    "        #line={'color_continuous_scale':px.colors.sequential.Inferno},\n",
    "        line={'color':survival_df.NUMBER_OF_EVOLVING_REPOSITORIES, 'colorscale': colorscale2, 'showscale':True, 'shape':'hspline'},\n",
    "        hoveron='category', hoverinfo='count',\n",
    "        labelfont={'size': 20, 'family': 'Times'},\n",
    "        tickfont={'size': 10, 'family': 'Times'},\n",
    "        arrangement='freeform',\n",
    "        )])\n",
    "\n",
    "fig.show()"
   ]
  },
  {
   "cell_type": "raw",
   "metadata": {},
   "source": [
    "- Figure 7 of the paper: categories of database family evolution for the filtered database-dependent projects"
   ]
  },
  {
   "cell_type": "code",
   "execution_count": 26,
   "metadata": {
    "scrolled": true
   },
   "outputs": [
    {
     "name": "stdout",
     "output_type": "stream",
     "text": [
      "  GLOBAL_EVOLUTION_TYPE  NUMBER_OF_FILTERED_REPOSITORIES\n",
      "0         Become hybrid                              294\n",
      "1  Become mono-database                               89\n",
      "2           Stay hybrid                               55\n",
      "3    Stay mono-database                               35\n",
      "\n",
      "   CAT_OF_DATA_MODEL_EVOLUTION  NUMBER_OF_REPOSITORIES GLOBAL_EVOLUTION_TYPE\n",
      "0                Become hybrid                     275           More hybrid\n",
      "1                  Stay hybrid                      23           More hybrid\n",
      "2                Become hybrid                      17           More hybrid\n",
      "3                  Stay hybrid                      14             Unchanged\n",
      "4                  Stay hybrid                       5           More hybrid\n",
      "5                  Stay hybrid                       4           Less hybrid\n",
      "6                  Stay hybrid                       3           More hybrid\n",
      "7                Become hybrid                       2           More hybrid\n",
      "8                  Stay hybrid                       1           More hybrid\n",
      "9                  Stay hybrid                       1             Unchanged\n",
      "10                 Stay hybrid                       1           More hybrid\n",
      "11                 Stay hybrid                       1           Less hybrid\n",
      "12                 Stay hybrid                       1             Unchanged\n",
      "13                 Stay hybrid                       1           More hybrid\n"
     ]
    }
   ],
   "source": [
    "#This query returns the total number of filtered repositories of the survey per category of data model evolution\n",
    "countNumberOfRepositories = '''SELECT GLOBAL_EVOLUTION_TYPE, COUNT() AS NUMBER_OF_FILTERED_REPOSITORIES FROM SQL_NOSQL_DBMS_TYPE_SURVIVAL_ANALYSIS_REPO_GLOBAL GROUP BY GLOBAL_EVOLUTION_TYPE;'''\n",
    "\n",
    "dfCountNumberOfRepositories = pd.read_sql_query(countNumberOfRepositories, connection)\n",
    "\n",
    "print(dfCountNumberOfRepositories)\n",
    "\n",
    "print()\n",
    "\n",
    "#This query returns the total number of filtered repositories of the survey per category of data model evolution and hybridation level\n",
    "countNumberOfRepositories = '''SELECT GLOBAL_EVOLUTION_TYPE AS CAT_OF_DATA_MODEL_EVOLUTION, COUNT() AS NUMBER_OF_REPOSITORIES, CASE WHEN NB_SOURCE_DBMS_TYPES < NB_FINAL_DBMS_TYPES THEN 'More hybrid' WHEN NB_SOURCE_DBMS_TYPES = NB_FINAL_DBMS_TYPES THEN 'Unchanged' WHEN NB_SOURCE_DBMS_TYPES > NB_FINAL_DBMS_TYPES THEN 'Less hybrid' END AS GLOBAL_EVOLUTION_TYPE\n",
    "FROM SQL_NOSQL_DBMS_TYPE_SURVIVAL_ANALYSIS_REPO_GLOBAL\n",
    "WHERE GLOBAL_EVOLUTION_TYPE IN ('Become hybrid', 'Stay hybrid')\n",
    "GROUP BY NB_SOURCE_DBMS_TYPES, NB_FINAL_DBMS_TYPES\n",
    "ORDER BY NUMBER_OF_REPOSITORIES DESC;'''\n",
    "\n",
    "dfCountNumberOfRepositories = pd.read_sql_query(countNumberOfRepositories, connection)\n",
    "\n",
    "print(dfCountNumberOfRepositories)"
   ]
  },
  {
   "cell_type": "code",
   "execution_count": 10,
   "metadata": {},
   "outputs": [],
   "source": [
    "connection.close()"
   ]
  }
 ],
 "metadata": {
  "kernelspec": {
   "display_name": "Python 3",
   "language": "python",
   "name": "python3"
  },
  "language_info": {
   "codemirror_mode": {
    "name": "ipython",
    "version": 3
   },
   "file_extension": ".py",
   "mimetype": "text/x-python",
   "name": "python",
   "nbconvert_exporter": "python",
   "pygments_lexer": "ipython3",
   "version": "3.8.5"
  }
 },
 "nbformat": 4,
 "nbformat_minor": 4
}
